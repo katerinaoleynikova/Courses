{
  "cells": [
    {
      "cell_type": "markdown",
      "source": [
        "# Algorithms in Bioinformatics / Homework 3"
      ],
      "metadata": {
        "id": "KGcaZNsELq1A"
      }
    },
    {
      "cell_type": "markdown",
      "source": [
        "1) Write a program to build an alignment using the Smith-Waterman algorithm.\n",
        "\n",
        "The penalties for insertions-deletions are linear (not affine), the parameters are: the reward for\n",
        "match m=1, the penalty for replacement mism=1, the penalty for deletion d=1. \n",
        "\n",
        "The program should\n",
        "output the alignment (sequences that are written under\n",
        "each other) and the alignment score."
      ],
      "metadata": {
        "id": "p0W2yFBML5pf"
      }
    },
    {
      "cell_type": "code",
      "source": [
        "import pandas as pd\n",
        "import itertools"
      ],
      "metadata": {
        "id": "gtI1Rtm0LrG8"
      },
      "execution_count": null,
      "outputs": []
    },
    {
      "cell_type": "markdown",
      "source": [
        "let's create the matrix:"
      ],
      "metadata": {
        "id": "LVZVyvc9PRjC"
      }
    },
    {
      "cell_type": "code",
      "source": [
        "def SmithWaterman(seq1,seq2,m,mism,d):\n",
        "    matrix = pd.DataFrame(index=[\"0\"]+[n for n in seq1], columns=[\"0\"]+[n for n in seq2]) # create an empty matrix\n",
        "    for i, j in itertools.product(range(len(matrix.index)),range(len(matrix.columns))): # it goes row by row\n",
        "        # both the first row and column are filled w/ 0\n",
        "        if i*j == 0:\n",
        "            matrix.iloc[i,j] = 0\n",
        "        else:\n",
        "            # the values for three previous cells\n",
        "            cell_1 = matrix.iloc[i,j-1]\n",
        "            cell_2 = matrix.iloc[i-1,j-1]\n",
        "            cell_3 = matrix.iloc[i-1,j]\n",
        "            if seq1[i-1] == seq2[j-1]:\n",
        "                matrix.iloc[i,j] = max(0, cell_1-d, cell_2+m, cell_3-d) # choose the maxim. taking into account the penalties for deletions and the rewards for matching\n",
        "            else:\n",
        "                matrix.iloc[i,j]=max(0, cell_1-d, cell_2-mism, cell_3-d) # choose the maxim. taking into account the penalties for deletions and mismatches\n",
        "    print(matrix)"
      ],
      "metadata": {
        "id": "ZvCuUdRtTKWd"
      },
      "execution_count": null,
      "outputs": []
    },
    {
      "cell_type": "code",
      "source": [
        "SmithWaterman(\"AAACGTTGC\",\"TGCACGA\",1,1,1)"
      ],
      "metadata": {
        "colab": {
          "base_uri": "https://localhost:8080/"
        },
        "id": "4qo8bNtJT9Yz",
        "outputId": "42b4e748-2c0b-4c30-840f-a8153182c2cd"
      },
      "execution_count": null,
      "outputs": [
        {
          "output_type": "stream",
          "name": "stdout",
          "text": [
            "   0  T  G  C  A  C  G  A\n",
            "0  0  0  0  0  0  0  0  0\n",
            "A  0  0  0  0  1  0  0  1\n",
            "A  0  0  0  0  1  0  0  1\n",
            "A  0  0  0  0  1  0  0  1\n",
            "C  0  0  0  1  0  2  1  0\n",
            "G  0  0  1  0  0  1  3  2\n",
            "T  0  1  0  0  0  0  2  2\n",
            "T  0  1  0  0  0  0  1  1\n",
            "G  0  0  2  1  0  0  1  0\n",
            "C  0  0  1  3  2  1  0  0\n"
          ]
        }
      ]
    },
    {
      "cell_type": "code",
      "source": [
        "def SmithWaterman(seq1,seq2,m,mism,d):\n",
        "    matrix = pd.DataFrame(index=[\"0\"]+[n for n in seq1], columns=[\"0\"]+[n for n in seq2]) # create an empty matrix\n",
        "    for i, j in itertools.product(range(len(matrix.index)),range(len(matrix.columns))): # it goes row by row\n",
        "        # both the first row and column are filled w/ 0\n",
        "        if i*j == 0:\n",
        "            matrix.iloc[i,j] = 0\n",
        "        else:\n",
        "            # the values for three previous cells\n",
        "            cell_1 = matrix.iloc[i,j-1]\n",
        "            cell_2 = matrix.iloc[i-1,j-1]\n",
        "            cell_3 = matrix.iloc[i-1,j]\n",
        "            if seq1[i-1] == seq2[j-1]:\n",
        "                matrix.iloc[i,j] = max(0, cell_1-d, cell_2+m, cell_3-d) # choose the maxim. taking into account the penalties for deletions and the rewards for matching\n",
        "            else:\n",
        "                matrix.iloc[i,j]=max(0, cell_1-d, cell_2-mism, cell_3-d) # choose the maxim. taking into account the penalties for deletions and mismatches\n",
        "    #print(matrix) # we start then from its end\n",
        "    # create aligned sequences (that are empty now)\n",
        "    aligned_seq1 = \"\"\n",
        "    aligned_seq2 = \"\"\n",
        "    # find the max. element in the last row/column and start w/ it  \n",
        "    max_elem1 = matrix.iloc[:,len(seq2)].max() \n",
        "    max_elem2 = matrix.iloc[len(seq1)].max()\n",
        "    if max_elem1 > max_elem2: \n",
        "        i = len(seq1)\n",
        "        j = len(seq2)\n",
        "        while True:\n",
        "          if matrix.iloc[i,len(seq2)] == max_elem1:\n",
        "            aligned_seq1 = aligned_seq1+matrix.index[i]\n",
        "            aligned_seq2 = aligned_seq2+matrix.columns[len(seq2)]\n",
        "            break\n",
        "          else:\n",
        "            aligned_seq1 = aligned_seq1+matrix.index[i]\n",
        "            aligned_seq2 = aligned_seq2+\"-\"\n",
        "            i = i-1\n",
        "    else:\n",
        "      i = len(seq1)\n",
        "      j = len(seq2)\n",
        "      while True:\n",
        "        if matrix.iloc[len(seq1),j] == max_elem1:\n",
        "          aligned_seq1 = aligned_seq1+matrix.index[len(seq1)]\n",
        "          aligned_seq2 = aligned_seq2+matrix.columns[j]\n",
        "          break\n",
        "        else:\n",
        "          aligned_seq1 = aligned_seq1+\"-\"\n",
        "          aligned_seq2 = aligned_seq2+matrix.columns[j]\n",
        "          j=j-1\n",
        "    for i,j in itertools.product(range(len(matrix.index)),range(len(matrix.columns))):\n",
        "      if i*j == 0:\n",
        "        matrix.iloc[i,j] = -1 # both the first row and column are filled with -1 (not to go beyond the boundaries)\n",
        "   # go to one of the previous cell w/ the max value\n",
        "    while i>1 or j>1:\n",
        "      cell_1 = matrix.iloc[i,j-1]\n",
        "      cell_2 = matrix.iloc[i-1,j-1]\n",
        "      cell_3 = matrix.iloc[i-1, j]\n",
        "      max_s = max(cell_1,cell_2,cell_3)\n",
        "      if cell_1 == max_s:\n",
        "        j=j-1\n",
        "        aligned_seq1 = aligned_seq1+\"-\"\n",
        "        aligned_seq2 = aligned_seq2+matrix.columns[j]\n",
        "      elif cell_2 == max_s:\n",
        "        i=i-1\n",
        "        j=j-1\n",
        "        aligned_seq1 = aligned_seq1+matrix.index[i]\n",
        "        aligned_seq2 = aligned_seq2+matrix.columns[j]\n",
        "      else:\n",
        "        i=i-1\n",
        "        aligned_seq1 = aligned_seq1+matrix.index[i]\n",
        "        aligned_seq2 = aligned_seq2+\"-\"\n",
        "    print(aligned_seq1[::-1])\n",
        "    print(aligned_seq2[::-1])\n",
        "    print(\"Score:\", max(max_elem1,max_elem2))"
      ],
      "metadata": {
        "id": "A8326woVP4qu"
      },
      "execution_count": null,
      "outputs": []
    },
    {
      "cell_type": "markdown",
      "source": [
        "2) To test the program on several examples:\n",
        "\n",
        "Since a local alignment is being sought, there should be such cases when the beginnings and/or endings of the sequences are not the same (dif)."
      ],
      "metadata": {
        "id": "T0FKUNfaYU2f"
      }
    },
    {
      "cell_type": "code",
      "execution_count": null,
      "metadata": {
        "id": "js3qGCPoSphd",
        "outputId": "d36b2332-b7f7-4b1e-a85f-66d7e5b0f750",
        "colab": {
          "base_uri": "https://localhost:8080/"
        }
      },
      "outputs": [
        {
          "output_type": "stream",
          "name": "stdout",
          "text": [
            "TAATCTAGA\n",
            "TAATCTAGA\n",
            "Score: 9\n"
          ]
        }
      ],
      "source": [
        "SmithWaterman(\"TAATCTAGA\",\"TAATCTAGA\",1,1,1) # when the sequences match"
      ]
    },
    {
      "cell_type": "code",
      "execution_count": null,
      "metadata": {
        "id": "WAkJqHs9Sphe",
        "outputId": "142d4dd9-c8da-418f-ff49-131e8123d01e",
        "colab": {
          "base_uri": "https://localhost:8080/"
        }
      },
      "outputs": [
        {
          "output_type": "stream",
          "name": "stdout",
          "text": [
            "T-ATTAGACGGA\n",
            "-AA-TAGA-CC-\n",
            "Score: 4\n"
          ]
        }
      ],
      "source": [
        "SmithWaterman(\"TATTAGACGA\",\"AATAGACC\",1,1,1) # when the sequences have indels (the dif. start and end between each other)"
      ]
    },
    {
      "cell_type": "code",
      "execution_count": null,
      "metadata": {
        "id": "tHrs1n0WSphe",
        "outputId": "1f27c7c1-a367-460f-89c8-d8a71c4aa2fc",
        "colab": {
          "base_uri": "https://localhost:8080/"
        }
      },
      "outputs": [
        {
          "output_type": "stream",
          "name": "stdout",
          "text": [
            "ATTACGACCC--G-G\n",
            "A-TACGA--CGA-GA\n",
            "Score: 5\n"
          ]
        }
      ],
      "source": [
        "SmithWaterman(\"ATTACGACCCGG\",\"ATACGACGAGA\",1,1,1) # when the sequences have indels (the end is not the same)"
      ]
    },
    {
      "cell_type": "code",
      "execution_count": null,
      "metadata": {
        "id": "C0lgnx2-Sphf",
        "outputId": "c2985013-9ab1-4be2-983b-c0c2bd9990c2",
        "colab": {
          "base_uri": "https://localhost:8080/"
        }
      },
      "outputs": [
        {
          "output_type": "stream",
          "name": "stdout",
          "text": [
            "GATTAGA\n",
            "-AT-TGA\n",
            "Score: 4\n"
          ]
        }
      ],
      "source": [
        "SmithWaterman(\"GATTAGA\",\"ATTGA\",1,1,1) # when the sequences have indels (the start is not the same) \n",
        "# this is also the sample of substitution \"A-T\""
      ]
    },
    {
      "cell_type": "markdown",
      "source": [
        "3*) To investigate how is changed the alignment weight of random independent sequences according to their length."
      ],
      "metadata": {
        "id": "R1wo06Gvb4hW"
      }
    },
    {
      "cell_type": "markdown",
      "source": [
        "Let's look at first the cases when we know the input seqs similarity (they are identical or not):\n",
        "1. If the sequences are the same, then the alignment weight is proportional to the length: W ~ L. if the sequences are the same, then any next addition will increase the alignment weight by 1.\n",
        "2. If the sequences are not the same, then the alignment weight is less than the length: W < L.\n"
      ],
      "metadata": {
        "id": "qWnseAXlcImy"
      }
    },
    {
      "cell_type": "markdown",
      "source": [
        "For any sequences, this is true that: W(S1S2) <= L, \n",
        "\n",
        "where S1,2 - sequences; \n",
        "\n",
        "and it is also true that the alignment weight is enclosed between the two linear functions: CL <= W(S1S2) <= L (where C - the constant (~ on a model).\n",
        "\n",
        "From this, we can conclude that **the alignment weight linearly depends on the length of the input sequences**, regardless of the model used."
      ],
      "metadata": {
        "id": "drXcAuUBdNZ-"
      }
    }
  ],
  "metadata": {
    "kernelspec": {
      "display_name": "Python 3",
      "language": "python",
      "name": "python3"
    },
    "language_info": {
      "codemirror_mode": {
        "name": "ipython",
        "version": 3
      },
      "file_extension": ".py",
      "mimetype": "text/x-python",
      "name": "python",
      "nbconvert_exporter": "python",
      "pygments_lexer": "ipython3",
      "version": "3.6.7"
    },
    "colab": {
      "name": "Algorithms_in_Bioinformatics_HW3.ipynb",
      "provenance": []
    }
  },
  "nbformat": 4,
  "nbformat_minor": 0
}