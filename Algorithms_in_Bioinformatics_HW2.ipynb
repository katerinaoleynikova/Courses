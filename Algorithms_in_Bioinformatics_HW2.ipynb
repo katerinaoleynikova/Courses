{
  "cells": [
    {
      "cell_type": "markdown",
      "metadata": {
        "id": "2SxWxJGBw9oD"
      },
      "source": [
        "## Algorithms in Bioinformatics / Homework 2"
      ]
    },
    {
      "cell_type": "code",
      "execution_count": 1,
      "metadata": {
        "colab": {
          "base_uri": "https://localhost:8080/"
        },
        "id": "xOMsL2rjA-0Z",
        "outputId": "895d7816-a526-4c29-d705-a0c97ce7578c"
      },
      "outputs": [
        {
          "output_type": "stream",
          "name": "stdout",
          "text": [
            "Collecting biopython\n",
            "  Downloading biopython-1.79-cp37-cp37m-manylinux_2_5_x86_64.manylinux1_x86_64.whl (2.3 MB)\n",
            "\u001b[K     |████████████████████████████████| 2.3 MB 3.2 MB/s \n",
            "\u001b[?25hRequirement already satisfied: numpy in /usr/local/lib/python3.7/dist-packages (from biopython) (1.21.5)\n",
            "Installing collected packages: biopython\n",
            "Successfully installed biopython-1.79\n"
          ]
        }
      ],
      "source": [
        "!pip install biopython"
      ]
    },
    {
      "cell_type": "markdown",
      "metadata": {
        "id": "vVzsW6gn_NAX"
      },
      "source": [
        "1. Download E. coli genome:\n",
        "\n",
        "a wide range of genomes (and its path via ftp ncbi) can be found here: https://gitlab.phw-pengu.com/a-gaskin/test-repo/-/blob/81504eaadf6e86826ed24574083c699e88b0e6c2/20191119-refdat-results/refdat-csv/ncbi-bacterial-reference-database.csv\n",
        "\n",
        "I selected this genome of E.coli: ftp://ftp.ncbi.nlm.nih.gov/genomes/all/GCF/003/018/375/GCF_003018375.1_ASM301837v1 and download it."
      ]
    },
    {
      "cell_type": "markdown",
      "metadata": {
        "id": "jiuUCPPe3E0v"
      },
      "source": [
        "2. Select 1000 fragments from this genome with the size of 4000 nt:"
      ]
    },
    {
      "cell_type": "code",
      "execution_count": 2,
      "metadata": {
        "id": "Jj0V5a0yw-q3"
      },
      "outputs": [],
      "source": [
        "from Bio import SeqIO\n",
        "import random # i decided to randomly select them \n",
        "\n",
        "seqs=[]\n",
        "for record in SeqIO.parse(\"GCF_003018375.1_ASM301837v1_genomic.fna\", \"fasta\"):\n",
        "  for i in range(1000):\n",
        "    a=random.randrange(0, len(record.seq)-4000, 1)\n",
        "    seqs.append(record.seq[a:a+4000])\n",
        "  break"
      ]
    },
    {
      "cell_type": "code",
      "execution_count": 3,
      "metadata": {
        "colab": {
          "base_uri": "https://localhost:8080/"
        },
        "id": "ZaCmFJvWEt_0",
        "outputId": "76c14677-91f2-4e9f-9747-e024b10832e2"
      },
      "outputs": [
        {
          "output_type": "execute_result",
          "data": {
            "text/plain": [
              "[Seq('ACAGCTACGCGCGGAAGTTTCTGATGAACTCGCAATGGTGTCCCGATCGCTGCG...ATA'),\n",
              " Seq('CATGTAGCGCATCAAAGGCTGCCTGCCAGAACAGGCTGTCGCCCTGCTCTGCAA...TTT'),\n",
              " Seq('TACTTTGGTATGAACAAAAAAAGAAAAATACAACGCGCGGGTGAGTTATTAAAA...AAT'),\n",
              " Seq('TGACTCTGCTGATACAGGAACTGAAGCGATGATCCCGTTACCTTCCGGGACCAA...TGA'),\n",
              " Seq('CGTCATGATATTTACGAAGCACTGGTTGAAATTAATCGATTTGAACCTGAACGT...AAT')]"
            ]
          },
          "metadata": {},
          "execution_count": 3
        }
      ],
      "source": [
        "seqs[:5]"
      ]
    },
    {
      "cell_type": "code",
      "execution_count": 4,
      "metadata": {
        "colab": {
          "base_uri": "https://localhost:8080/"
        },
        "id": "rAQZEVhOE_O7",
        "outputId": "9837f80a-8c38-441b-be05-2f50d7403cae"
      },
      "outputs": [
        {
          "output_type": "execute_result",
          "data": {
            "text/plain": [
              "1000"
            ]
          },
          "metadata": {},
          "execution_count": 4
        }
      ],
      "source": [
        "len(seqs) # to check how many fragments are"
      ]
    },
    {
      "cell_type": "code",
      "execution_count": 5,
      "metadata": {
        "colab": {
          "base_uri": "https://localhost:8080/"
        },
        "id": "66hj-uMcFC-j",
        "outputId": "13dd6178-3cdc-4ab4-b123-602c8bfd3f5f"
      },
      "outputs": [
        {
          "output_type": "execute_result",
          "data": {
            "text/plain": [
              "4000"
            ]
          },
          "metadata": {},
          "execution_count": 5
        }
      ],
      "source": [
        "len(seqs[5]) # to check each fragment's length"
      ]
    },
    {
      "cell_type": "markdown",
      "metadata": {
        "id": "W5ywce0nE53i"
      },
      "source": [
        "3-6. For each fragment it is needed to construct Bernoulli model, first/second/third/fourth/fifth/sixth/seventh/eighth-order Markov models plus for each model to estimate its AIC and BIC.\n"
      ]
    },
    {
      "cell_type": "code",
      "source": [
        "import math\n",
        "\n",
        "for model in range(9):\n",
        "  # 0 - Bernoulli # for each nucleotide\n",
        "  # 1 - first-order Markov # each nucleotide depends on its predecessor\n",
        "  # 2 - second-order Markov # each nucleotide depends on immediate two predecessors\n",
        "  # 3 - third-order Markov ..\n",
        "  # 4 - fourth-order Markov ..\n",
        "  # 5 - fifth-order Markov # calculates the probability of the sixth base based on the previous five bases in the sequence.\n",
        "  # 6 - sixth-order Markov ..\n",
        "  # 7 - seventh-order ..\n",
        "  # 8 - eighth-order ..\n",
        "    p = 0 # subword frequency distribution\n",
        "    for seq in seqs:\n",
        "        subword = \"\"\n",
        "        for nt in seq:\n",
        "            if len(subword)<(model+1):\n",
        "                subword=subword+nt\n",
        "            if len(subword)==(model+1): \n",
        "                if model==0:\n",
        "                    p=p+math.log(seq.count(subword)/4000) # spectrum of the log of the spectrum\n",
        "                else:\n",
        "                    p=p+math.log(seq.count(subword)/(4000-model))-math.log(seq.count(subword[:(len(subword)-1)])/(4001-model))\n",
        "                subword=subword[1:]\n",
        "    print(\"Model \"+ str(model))\n",
        "    print(\"AIC\",2*4**(model+1)-2-2*p)\n",
        "    print(\"BIC\",(4**(model+1)-1)*math.log(1000)-2*p)"
      ],
      "metadata": {
        "colab": {
          "base_uri": "https://localhost:8080/"
        },
        "id": "4BE46bYTQ3KW",
        "outputId": "07f9f18a-039d-4bbb-fd97-c46ae9cd470b"
      },
      "execution_count": 8,
      "outputs": [
        {
          "output_type": "stream",
          "name": "stdout",
          "text": [
            "Model 0\n",
            "AIC 11052019.426514272\n",
            "BIC 11052034.149780108\n",
            "Model 1\n",
            "AIC 11410766.925871061\n",
            "BIC 11410840.542200245\n",
            "Model 2\n",
            "AIC 10522520.552804401\n",
            "BIC 10522829.741386976\n",
            "Model 3\n",
            "AIC 10398838.799083028\n",
            "BIC 10400090.276679168\n",
            "Model 4\n",
            "AIC 9719786.374643376\n",
            "BIC 9724807.008293774\n",
            "Model 5\n",
            "AIC 7383324.703816164\n",
            "BIC 7403421.9616835965\n",
            "Model 6\n",
            "AIC 3804830.0614640927\n",
            "BIC 3885233.816199657\n",
            "Model 7\n",
            "AIC 1524445.2841051335\n",
            "BIC 1846075.0263132278\n",
            "Model 8\n",
            "AIC 962745.5378757138\n",
            "BIC 2249279.229973928\n"
          ]
        }
      ]
    }
  ],
  "metadata": {
    "colab": {
      "collapsed_sections": [],
      "name": "Untitled8.ipynb",
      "provenance": []
    },
    "kernelspec": {
      "display_name": "Python 3",
      "name": "python3"
    },
    "language_info": {
      "name": "python"
    }
  },
  "nbformat": 4,
  "nbformat_minor": 0
}