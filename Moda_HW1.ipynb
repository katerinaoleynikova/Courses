{
  "nbformat": 4,
  "nbformat_minor": 0,
  "metadata": {
    "kernelspec": {
      "display_name": "Python 3",
      "language": "python",
      "name": "python3"
    },
    "language_info": {
      "codemirror_mode": {
        "name": "ipython",
        "version": 3
      },
      "file_extension": ".py",
      "mimetype": "text/x-python",
      "name": "python",
      "nbconvert_exporter": "python",
      "pygments_lexer": "ipython3",
      "version": "3.6.9"
    },
    "colab": {
      "name": "Moda_HW1.ipynb",
      "provenance": [],
      "collapsed_sections": [
        "oJxCpQoY1v4O",
        "p4rnIHep1v4R",
        "XZO4J1hT1v4W",
        "1lq50ySc1v4X",
        "-w31Idkq1v4Z"
      ]
    }
  },
  "cells": [
    {
      "cell_type": "markdown",
      "metadata": {
        "id": "12Nlsnr21v4I"
      },
      "source": [
        "# Home Work #1\n",
        "\n",
        "It is needed to work with the data on the biomechanical features of orthopedic patients."
      ]
    },
    {
      "cell_type": "code",
      "metadata": {
        "id": "G_lQeZBa1v4M"
      },
      "source": [
        "import pandas as pd\n",
        "import numpy as np\n",
        "import matplotlib.pyplot as plt\n",
        "import seaborn as sns\n",
        "from sklearn.model_selection import train_test_split\n",
        "from sklearn.preprocessing import scale\n",
        "from sklearn.decomposition import PCA"
      ],
      "execution_count": null,
      "outputs": []
    },
    {
      "cell_type": "code",
      "metadata": {
        "id": "QWqGZVRl1v4O"
      },
      "source": [
        "# At first, let's set the precision for values: to 2 digits after the decimal point. Оставим вывод только двух чисел после запятой\n",
        "pd.set_option(\"precision\", 2)"
      ],
      "execution_count": null,
      "outputs": []
    },
    {
      "cell_type": "markdown",
      "metadata": {
        "id": "oJxCpQoY1v4O"
      },
      "source": [
        "## Step 1: Introduction (Data Table)"
      ]
    },
    {
      "cell_type": "code",
      "metadata": {
        "id": "DHGhXwZA1v4P",
        "colab": {
          "base_uri": "https://localhost:8080/",
          "height": 524
        },
        "outputId": "3be19d90-9107-4765-972d-dfe6e2cece73"
      },
      "source": [
        "# Load the data from column_2C_weka.csv\n",
        "data = pd.read_csv(\"column_2C_weka_moda_hw1.csv\")\n",
        "data"
      ],
      "execution_count": null,
      "outputs": [
        {
          "output_type": "execute_result",
          "data": {
            "text/html": [
              "<div>\n",
              "<style scoped>\n",
              "    .dataframe tbody tr th:only-of-type {\n",
              "        vertical-align: middle;\n",
              "    }\n",
              "\n",
              "    .dataframe tbody tr th {\n",
              "        vertical-align: top;\n",
              "    }\n",
              "\n",
              "    .dataframe thead th {\n",
              "        text-align: right;\n",
              "    }\n",
              "</style>\n",
              "<table border=\"1\" class=\"dataframe\">\n",
              "  <thead>\n",
              "    <tr style=\"text-align: right;\">\n",
              "      <th></th>\n",
              "      <th>pelvic_incidence</th>\n",
              "      <th>pelvic_tilt numeric</th>\n",
              "      <th>lumbar_lordosis_angle</th>\n",
              "      <th>sacral_slope</th>\n",
              "      <th>pelvic_radius</th>\n",
              "      <th>degree_spondylolisthesis</th>\n",
              "      <th>jump_height</th>\n",
              "      <th>class</th>\n",
              "    </tr>\n",
              "  </thead>\n",
              "  <tbody>\n",
              "    <tr>\n",
              "      <th>0</th>\n",
              "      <td>63.03</td>\n",
              "      <td>22.55</td>\n",
              "      <td>39.61</td>\n",
              "      <td>40.48</td>\n",
              "      <td>98.67</td>\n",
              "      <td>-0.25</td>\n",
              "      <td>34.56</td>\n",
              "      <td>Abnormal</td>\n",
              "    </tr>\n",
              "    <tr>\n",
              "      <th>1</th>\n",
              "      <td>49.71</td>\n",
              "      <td>9.65</td>\n",
              "      <td>28.32</td>\n",
              "      <td>40.06</td>\n",
              "      <td>108.17</td>\n",
              "      <td>7.92</td>\n",
              "      <td>10.03</td>\n",
              "      <td>Abnormal</td>\n",
              "    </tr>\n",
              "    <tr>\n",
              "      <th>2</th>\n",
              "      <td>NaN</td>\n",
              "      <td>13.92</td>\n",
              "      <td>25.12</td>\n",
              "      <td>26.33</td>\n",
              "      <td>130.33</td>\n",
              "      <td>2.23</td>\n",
              "      <td>NaN</td>\n",
              "      <td>Abnormal</td>\n",
              "    </tr>\n",
              "    <tr>\n",
              "      <th>3</th>\n",
              "      <td>53.43</td>\n",
              "      <td>15.86</td>\n",
              "      <td>37.17</td>\n",
              "      <td>37.57</td>\n",
              "      <td>120.57</td>\n",
              "      <td>5.99</td>\n",
              "      <td>31.68</td>\n",
              "      <td>Abnormal</td>\n",
              "    </tr>\n",
              "    <tr>\n",
              "      <th>4</th>\n",
              "      <td>44.32</td>\n",
              "      <td>12.54</td>\n",
              "      <td>36.10</td>\n",
              "      <td>31.78</td>\n",
              "      <td>124.12</td>\n",
              "      <td>5.42</td>\n",
              "      <td>NaN</td>\n",
              "      <td>Abnormal</td>\n",
              "    </tr>\n",
              "    <tr>\n",
              "      <th>...</th>\n",
              "      <td>...</td>\n",
              "      <td>...</td>\n",
              "      <td>...</td>\n",
              "      <td>...</td>\n",
              "      <td>...</td>\n",
              "      <td>...</td>\n",
              "      <td>...</td>\n",
              "      <td>...</td>\n",
              "    </tr>\n",
              "    <tr>\n",
              "      <th>220</th>\n",
              "      <td>47.90</td>\n",
              "      <td>13.62</td>\n",
              "      <td>36.00</td>\n",
              "      <td>34.29</td>\n",
              "      <td>117.45</td>\n",
              "      <td>-4.25</td>\n",
              "      <td>33.22</td>\n",
              "      <td>Normal</td>\n",
              "    </tr>\n",
              "    <tr>\n",
              "      <th>221</th>\n",
              "      <td>53.94</td>\n",
              "      <td>20.72</td>\n",
              "      <td>29.22</td>\n",
              "      <td>33.22</td>\n",
              "      <td>114.37</td>\n",
              "      <td>-0.42</td>\n",
              "      <td>NaN</td>\n",
              "      <td>Normal</td>\n",
              "    </tr>\n",
              "    <tr>\n",
              "      <th>222</th>\n",
              "      <td>61.45</td>\n",
              "      <td>22.69</td>\n",
              "      <td>46.17</td>\n",
              "      <td>38.75</td>\n",
              "      <td>125.67</td>\n",
              "      <td>-2.71</td>\n",
              "      <td>NaN</td>\n",
              "      <td>Normal</td>\n",
              "    </tr>\n",
              "    <tr>\n",
              "      <th>223</th>\n",
              "      <td>45.25</td>\n",
              "      <td>8.69</td>\n",
              "      <td>41.58</td>\n",
              "      <td>36.56</td>\n",
              "      <td>118.55</td>\n",
              "      <td>0.21</td>\n",
              "      <td>NaN</td>\n",
              "      <td>Normal</td>\n",
              "    </tr>\n",
              "    <tr>\n",
              "      <th>224</th>\n",
              "      <td>33.84</td>\n",
              "      <td>5.07</td>\n",
              "      <td>36.64</td>\n",
              "      <td>28.77</td>\n",
              "      <td>123.95</td>\n",
              "      <td>-0.20</td>\n",
              "      <td>NaN</td>\n",
              "      <td>Normal</td>\n",
              "    </tr>\n",
              "  </tbody>\n",
              "</table>\n",
              "<p>225 rows × 8 columns</p>\n",
              "</div>"
            ],
            "text/plain": [
              "     pelvic_incidence  pelvic_tilt numeric  ...  jump_height     class\n",
              "0               63.03                22.55  ...        34.56  Abnormal\n",
              "1               49.71                 9.65  ...        10.03  Abnormal\n",
              "2                 NaN                13.92  ...          NaN  Abnormal\n",
              "3               53.43                15.86  ...        31.68  Abnormal\n",
              "4               44.32                12.54  ...          NaN  Abnormal\n",
              "..                ...                  ...  ...          ...       ...\n",
              "220             47.90                13.62  ...        33.22    Normal\n",
              "221             53.94                20.72  ...          NaN    Normal\n",
              "222             61.45                22.69  ...          NaN    Normal\n",
              "223             45.25                 8.69  ...          NaN    Normal\n",
              "224             33.84                 5.07  ...          NaN    Normal\n",
              "\n",
              "[225 rows x 8 columns]"
            ]
          },
          "metadata": {},
          "execution_count": 3
        }
      ]
    },
    {
      "cell_type": "code",
      "metadata": {
        "id": "vhNL4koC1v4P",
        "colab": {
          "base_uri": "https://localhost:8080/"
        },
        "outputId": "bedb52c7-c8fb-482a-f471-ca68a83b07e1"
      },
      "source": [
        "# table size\n",
        "data.shape"
      ],
      "execution_count": null,
      "outputs": [
        {
          "output_type": "execute_result",
          "data": {
            "text/plain": [
              "(225, 8)"
            ]
          },
          "metadata": {},
          "execution_count": 4
        }
      ]
    },
    {
      "cell_type": "code",
      "metadata": {
        "colab": {
          "base_uri": "https://localhost:8080/"
        },
        "id": "5ueVGpTY-n85",
        "outputId": "a3b7982a-3ffe-4677-afc8-cd16960dc0e9"
      },
      "source": [
        "# features\n",
        "data.columns"
      ],
      "execution_count": null,
      "outputs": [
        {
          "output_type": "execute_result",
          "data": {
            "text/plain": [
              "Index(['pelvic_incidence', 'pelvic_tilt numeric', 'lumbar_lordosis_angle',\n",
              "       'sacral_slope', 'pelvic_radius', 'degree_spondylolisthesis',\n",
              "       'jump_height', 'class'],\n",
              "      dtype='object')"
            ]
          },
          "metadata": {},
          "execution_count": 5
        }
      ]
    },
    {
      "cell_type": "code",
      "metadata": {
        "id": "l1cC2WPY1v4Q",
        "colab": {
          "base_uri": "https://localhost:8080/",
          "height": 241
        },
        "outputId": "4a3b3f86-9c17-4011-8bdf-d6e2a9a0b1df"
      },
      "source": [
        "# the first several (5) rows of the table\n",
        "data.head()"
      ],
      "execution_count": null,
      "outputs": [
        {
          "output_type": "execute_result",
          "data": {
            "text/html": [
              "<div>\n",
              "<style scoped>\n",
              "    .dataframe tbody tr th:only-of-type {\n",
              "        vertical-align: middle;\n",
              "    }\n",
              "\n",
              "    .dataframe tbody tr th {\n",
              "        vertical-align: top;\n",
              "    }\n",
              "\n",
              "    .dataframe thead th {\n",
              "        text-align: right;\n",
              "    }\n",
              "</style>\n",
              "<table border=\"1\" class=\"dataframe\">\n",
              "  <thead>\n",
              "    <tr style=\"text-align: right;\">\n",
              "      <th></th>\n",
              "      <th>pelvic_incidence</th>\n",
              "      <th>pelvic_tilt numeric</th>\n",
              "      <th>lumbar_lordosis_angle</th>\n",
              "      <th>sacral_slope</th>\n",
              "      <th>pelvic_radius</th>\n",
              "      <th>degree_spondylolisthesis</th>\n",
              "      <th>jump_height</th>\n",
              "      <th>class</th>\n",
              "    </tr>\n",
              "  </thead>\n",
              "  <tbody>\n",
              "    <tr>\n",
              "      <th>0</th>\n",
              "      <td>63.03</td>\n",
              "      <td>22.55</td>\n",
              "      <td>39.61</td>\n",
              "      <td>40.48</td>\n",
              "      <td>98.67</td>\n",
              "      <td>-0.25</td>\n",
              "      <td>34.56</td>\n",
              "      <td>Abnormal</td>\n",
              "    </tr>\n",
              "    <tr>\n",
              "      <th>1</th>\n",
              "      <td>49.71</td>\n",
              "      <td>9.65</td>\n",
              "      <td>28.32</td>\n",
              "      <td>40.06</td>\n",
              "      <td>108.17</td>\n",
              "      <td>7.92</td>\n",
              "      <td>10.03</td>\n",
              "      <td>Abnormal</td>\n",
              "    </tr>\n",
              "    <tr>\n",
              "      <th>2</th>\n",
              "      <td>NaN</td>\n",
              "      <td>13.92</td>\n",
              "      <td>25.12</td>\n",
              "      <td>26.33</td>\n",
              "      <td>130.33</td>\n",
              "      <td>2.23</td>\n",
              "      <td>NaN</td>\n",
              "      <td>Abnormal</td>\n",
              "    </tr>\n",
              "    <tr>\n",
              "      <th>3</th>\n",
              "      <td>53.43</td>\n",
              "      <td>15.86</td>\n",
              "      <td>37.17</td>\n",
              "      <td>37.57</td>\n",
              "      <td>120.57</td>\n",
              "      <td>5.99</td>\n",
              "      <td>31.68</td>\n",
              "      <td>Abnormal</td>\n",
              "    </tr>\n",
              "    <tr>\n",
              "      <th>4</th>\n",
              "      <td>44.32</td>\n",
              "      <td>12.54</td>\n",
              "      <td>36.10</td>\n",
              "      <td>31.78</td>\n",
              "      <td>124.12</td>\n",
              "      <td>5.42</td>\n",
              "      <td>NaN</td>\n",
              "      <td>Abnormal</td>\n",
              "    </tr>\n",
              "  </tbody>\n",
              "</table>\n",
              "</div>"
            ],
            "text/plain": [
              "   pelvic_incidence  pelvic_tilt numeric  ...  jump_height     class\n",
              "0             63.03                22.55  ...        34.56  Abnormal\n",
              "1             49.71                 9.65  ...        10.03  Abnormal\n",
              "2               NaN                13.92  ...          NaN  Abnormal\n",
              "3             53.43                15.86  ...        31.68  Abnormal\n",
              "4             44.32                12.54  ...          NaN  Abnormal\n",
              "\n",
              "[5 rows x 8 columns]"
            ]
          },
          "metadata": {},
          "execution_count": 6
        }
      ]
    },
    {
      "cell_type": "code",
      "metadata": {
        "id": "FXAUAQaR1v4Q"
      },
      "source": [
        "# Choose randomly individual samples set with the size of 200 that is going to be processed after\n",
        "sample = data.sample(n = 200, random_state = 42)"
      ],
      "execution_count": null,
      "outputs": []
    },
    {
      "cell_type": "markdown",
      "metadata": {
        "id": "p4rnIHep1v4R"
      },
      "source": [
        "## Step 2: Zero values presence detection\n"
      ]
    },
    {
      "cell_type": "code",
      "metadata": {
        "id": "bg5M7DYa1v4R",
        "colab": {
          "base_uri": "https://localhost:8080/"
        },
        "outputId": "c2eb8370-e7c6-4756-d1bd-96dca12d1d75"
      },
      "source": [
        "# sample content (relative to non-zero values)\n",
        "sample.info()"
      ],
      "execution_count": null,
      "outputs": [
        {
          "output_type": "stream",
          "name": "stdout",
          "text": [
            "<class 'pandas.core.frame.DataFrame'>\n",
            "Int64Index: 200 entries, 9 to 129\n",
            "Data columns (total 8 columns):\n",
            " #   Column                    Non-Null Count  Dtype  \n",
            "---  ------                    --------------  -----  \n",
            " 0   pelvic_incidence          197 non-null    float64\n",
            " 1   pelvic_tilt numeric       197 non-null    float64\n",
            " 2   lumbar_lordosis_angle     198 non-null    float64\n",
            " 3   sacral_slope              197 non-null    float64\n",
            " 4   pelvic_radius             197 non-null    float64\n",
            " 5   degree_spondylolisthesis  197 non-null    float64\n",
            " 6   jump_height               16 non-null     float64\n",
            " 7   class                     200 non-null    object \n",
            "dtypes: float64(7), object(1)\n",
            "memory usage: 14.1+ KB\n"
          ]
        }
      ]
    },
    {
      "cell_type": "code",
      "metadata": {
        "id": "XbK0JyOj1v4R"
      },
      "source": [
        "# which column sticks out strongly?\n",
        "# r: jump_height (16 non-null values out of 225)"
      ],
      "execution_count": null,
      "outputs": []
    },
    {
      "cell_type": "code",
      "metadata": {
        "id": "RCHO_-aU1v4S",
        "colab": {
          "base_uri": "https://localhost:8080/",
          "height": 241
        },
        "outputId": "6071a9bb-d2cf-4be6-82a6-56e08732efba"
      },
      "source": [
        "# the first several (5) rows of the table that correspond to zero values (null) in the jump_height column\n",
        "sample[sample[\"jump_height\"].isnull()].head()"
      ],
      "execution_count": null,
      "outputs": [
        {
          "output_type": "execute_result",
          "data": {
            "text/html": [
              "<div>\n",
              "<style scoped>\n",
              "    .dataframe tbody tr th:only-of-type {\n",
              "        vertical-align: middle;\n",
              "    }\n",
              "\n",
              "    .dataframe tbody tr th {\n",
              "        vertical-align: top;\n",
              "    }\n",
              "\n",
              "    .dataframe thead th {\n",
              "        text-align: right;\n",
              "    }\n",
              "</style>\n",
              "<table border=\"1\" class=\"dataframe\">\n",
              "  <thead>\n",
              "    <tr style=\"text-align: right;\">\n",
              "      <th></th>\n",
              "      <th>pelvic_incidence</th>\n",
              "      <th>pelvic_tilt numeric</th>\n",
              "      <th>lumbar_lordosis_angle</th>\n",
              "      <th>sacral_slope</th>\n",
              "      <th>pelvic_radius</th>\n",
              "      <th>degree_spondylolisthesis</th>\n",
              "      <th>jump_height</th>\n",
              "      <th>class</th>\n",
              "    </tr>\n",
              "  </thead>\n",
              "  <tbody>\n",
              "    <tr>\n",
              "      <th>9</th>\n",
              "      <td>43.92</td>\n",
              "      <td>14.18</td>\n",
              "      <td>37.83</td>\n",
              "      <td>29.74</td>\n",
              "      <td>134.46</td>\n",
              "      <td>6.45</td>\n",
              "      <td>NaN</td>\n",
              "      <td>Abnormal</td>\n",
              "    </tr>\n",
              "    <tr>\n",
              "      <th>184</th>\n",
              "      <td>37.14</td>\n",
              "      <td>16.48</td>\n",
              "      <td>24.00</td>\n",
              "      <td>20.66</td>\n",
              "      <td>125.01</td>\n",
              "      <td>7.37</td>\n",
              "      <td>NaN</td>\n",
              "      <td>Normal</td>\n",
              "    </tr>\n",
              "    <tr>\n",
              "      <th>120</th>\n",
              "      <td>63.36</td>\n",
              "      <td>20.02</td>\n",
              "      <td>67.50</td>\n",
              "      <td>43.34</td>\n",
              "      <td>131.00</td>\n",
              "      <td>37.56</td>\n",
              "      <td>NaN</td>\n",
              "      <td>Abnormal</td>\n",
              "    </tr>\n",
              "    <tr>\n",
              "      <th>207</th>\n",
              "      <td>34.76</td>\n",
              "      <td>2.63</td>\n",
              "      <td>29.50</td>\n",
              "      <td>32.12</td>\n",
              "      <td>127.14</td>\n",
              "      <td>-0.46</td>\n",
              "      <td>NaN</td>\n",
              "      <td>Normal</td>\n",
              "    </tr>\n",
              "    <tr>\n",
              "      <th>148</th>\n",
              "      <td>40.68</td>\n",
              "      <td>9.15</td>\n",
              "      <td>31.02</td>\n",
              "      <td>31.53</td>\n",
              "      <td>139.12</td>\n",
              "      <td>-2.51</td>\n",
              "      <td>NaN</td>\n",
              "      <td>Normal</td>\n",
              "    </tr>\n",
              "  </tbody>\n",
              "</table>\n",
              "</div>"
            ],
            "text/plain": [
              "     pelvic_incidence  pelvic_tilt numeric  ...  jump_height     class\n",
              "9               43.92                14.18  ...          NaN  Abnormal\n",
              "184             37.14                16.48  ...          NaN    Normal\n",
              "120             63.36                20.02  ...          NaN  Abnormal\n",
              "207             34.76                 2.63  ...          NaN    Normal\n",
              "148             40.68                 9.15  ...          NaN    Normal\n",
              "\n",
              "[5 rows x 8 columns]"
            ]
          },
          "metadata": {},
          "execution_count": 10
        }
      ]
    },
    {
      "cell_type": "code",
      "metadata": {
        "id": "xuddIK8o1v4S"
      },
      "source": [
        "# is this column (jump_height) informative?\n",
        "# r: no, there are lots of missing values in the column"
      ],
      "execution_count": null,
      "outputs": []
    },
    {
      "cell_type": "code",
      "metadata": {
        "id": "msUbKYe21v4T"
      },
      "source": [
        "# if it isn't, it would be nice to drop it\n",
        "sample = sample.drop([\"jump_height\"], axis = 1)"
      ],
      "execution_count": null,
      "outputs": []
    },
    {
      "cell_type": "code",
      "metadata": {
        "id": "ig1DBtdh1v4T",
        "colab": {
          "base_uri": "https://localhost:8080/"
        },
        "outputId": "eab3842c-438c-459c-8697-08233f392d92"
      },
      "source": [
        "# Let's look at any column that contains zero values\n",
        "sample.info()\n",
        "# for example, sacral_slope column"
      ],
      "execution_count": null,
      "outputs": [
        {
          "output_type": "stream",
          "name": "stdout",
          "text": [
            "<class 'pandas.core.frame.DataFrame'>\n",
            "Int64Index: 200 entries, 9 to 129\n",
            "Data columns (total 7 columns):\n",
            " #   Column                    Non-Null Count  Dtype  \n",
            "---  ------                    --------------  -----  \n",
            " 0   pelvic_incidence          197 non-null    float64\n",
            " 1   pelvic_tilt numeric       197 non-null    float64\n",
            " 2   lumbar_lordosis_angle     198 non-null    float64\n",
            " 3   sacral_slope              197 non-null    float64\n",
            " 4   pelvic_radius             197 non-null    float64\n",
            " 5   degree_spondylolisthesis  197 non-null    float64\n",
            " 6   class                     200 non-null    object \n",
            "dtypes: float64(6), object(1)\n",
            "memory usage: 12.5+ KB\n"
          ]
        }
      ]
    },
    {
      "cell_type": "code",
      "metadata": {
        "colab": {
          "base_uri": "https://localhost:8080/",
          "height": 179
        },
        "id": "fEh1SevzPVpw",
        "outputId": "27ebe116-db49-4eec-d258-12d82762c251"
      },
      "source": [
        "sample[sample[\"sacral_slope\"].isnull()]"
      ],
      "execution_count": null,
      "outputs": [
        {
          "output_type": "execute_result",
          "data": {
            "text/html": [
              "<div>\n",
              "<style scoped>\n",
              "    .dataframe tbody tr th:only-of-type {\n",
              "        vertical-align: middle;\n",
              "    }\n",
              "\n",
              "    .dataframe tbody tr th {\n",
              "        vertical-align: top;\n",
              "    }\n",
              "\n",
              "    .dataframe thead th {\n",
              "        text-align: right;\n",
              "    }\n",
              "</style>\n",
              "<table border=\"1\" class=\"dataframe\">\n",
              "  <thead>\n",
              "    <tr style=\"text-align: right;\">\n",
              "      <th></th>\n",
              "      <th>pelvic_incidence</th>\n",
              "      <th>pelvic_tilt numeric</th>\n",
              "      <th>lumbar_lordosis_angle</th>\n",
              "      <th>sacral_slope</th>\n",
              "      <th>pelvic_radius</th>\n",
              "      <th>degree_spondylolisthesis</th>\n",
              "      <th>class</th>\n",
              "    </tr>\n",
              "  </thead>\n",
              "  <tbody>\n",
              "    <tr>\n",
              "      <th>45</th>\n",
              "      <td>49.78</td>\n",
              "      <td>6.47</td>\n",
              "      <td>53.00</td>\n",
              "      <td>NaN</td>\n",
              "      <td>110.86</td>\n",
              "      <td>25.34</td>\n",
              "      <td>Abnormal</td>\n",
              "    </tr>\n",
              "    <tr>\n",
              "      <th>6</th>\n",
              "      <td>31.28</td>\n",
              "      <td>3.14</td>\n",
              "      <td>32.56</td>\n",
              "      <td>NaN</td>\n",
              "      <td>129.01</td>\n",
              "      <td>3.62</td>\n",
              "      <td>Abnormal</td>\n",
              "    </tr>\n",
              "    <tr>\n",
              "      <th>139</th>\n",
              "      <td>89.83</td>\n",
              "      <td>22.64</td>\n",
              "      <td>90.56</td>\n",
              "      <td>NaN</td>\n",
              "      <td>100.50</td>\n",
              "      <td>3.04</td>\n",
              "      <td>Normal</td>\n",
              "    </tr>\n",
              "  </tbody>\n",
              "</table>\n",
              "</div>"
            ],
            "text/plain": [
              "     pelvic_incidence  pelvic_tilt numeric  ...  degree_spondylolisthesis     class\n",
              "45              49.78                 6.47  ...                     25.34  Abnormal\n",
              "6               31.28                 3.14  ...                      3.62  Abnormal\n",
              "139             89.83                22.64  ...                      3.04    Normal\n",
              "\n",
              "[3 rows x 7 columns]"
            ]
          },
          "metadata": {},
          "execution_count": 14
        }
      ]
    },
    {
      "cell_type": "code",
      "metadata": {
        "id": "ff9BeMfa1v4U"
      },
      "source": [
        "# Does it make sense to delete an entire row containing at least one NaN in the case of insufficient data?\n",
        "# r: no; in smaller data sets, there is a steep price in removing samples. \n",
        "# some of the alternative approaches are more appropriate."
      ],
      "execution_count": null,
      "outputs": []
    },
    {
      "cell_type": "code",
      "metadata": {
        "id": "2VL93RgW1v4V"
      },
      "source": [
        "# If it doesn't, what else can be done (taking into account that features are quantitative) what would work best for?\n",
        "# r: data imputation (i.e. replacing missing data with substitute values)."
      ],
      "execution_count": null,
      "outputs": []
    },
    {
      "cell_type": "code",
      "metadata": {
        "id": "-7cudCuM1v4V"
      },
      "source": [
        "# we can replace the missing values using the \".fillna()\" method.\n",
        "value = sample.mean()\n",
        "sample = sample.fillna(value)"
      ],
      "execution_count": null,
      "outputs": []
    },
    {
      "cell_type": "code",
      "metadata": {
        "colab": {
          "base_uri": "https://localhost:8080/"
        },
        "id": "UXYxZSnQka-P",
        "outputId": "7e07b27d-4af6-4812-987d-c7b23cbc1196"
      },
      "source": [
        "# where new values were retrieved from\n",
        "sample.mean()"
      ],
      "execution_count": null,
      "outputs": [
        {
          "output_type": "execute_result",
          "data": {
            "text/plain": [
              "pelvic_incidence             60.53\n",
              "pelvic_tilt numeric          16.12\n",
              "lumbar_lordosis_angle        51.54\n",
              "sacral_slope                 44.02\n",
              "pelvic_radius               117.96\n",
              "degree_spondylolisthesis     24.33\n",
              "dtype: float64"
            ]
          },
          "metadata": {},
          "execution_count": 18
        }
      ]
    },
    {
      "cell_type": "code",
      "metadata": {
        "id": "ZpvW-Nl01v4V",
        "colab": {
          "base_uri": "https://localhost:8080/"
        },
        "outputId": "e8ee5879-da1c-4148-fd4d-4d8d9dedbce7"
      },
      "source": [
        "# Let's look at the content of the data relative to non-zero values now\n",
        "sample.info()"
      ],
      "execution_count": null,
      "outputs": [
        {
          "output_type": "stream",
          "name": "stdout",
          "text": [
            "<class 'pandas.core.frame.DataFrame'>\n",
            "Int64Index: 200 entries, 9 to 129\n",
            "Data columns (total 7 columns):\n",
            " #   Column                    Non-Null Count  Dtype  \n",
            "---  ------                    --------------  -----  \n",
            " 0   pelvic_incidence          200 non-null    float64\n",
            " 1   pelvic_tilt numeric       200 non-null    float64\n",
            " 2   lumbar_lordosis_angle     200 non-null    float64\n",
            " 3   sacral_slope              200 non-null    float64\n",
            " 4   pelvic_radius             200 non-null    float64\n",
            " 5   degree_spondylolisthesis  200 non-null    float64\n",
            " 6   class                     200 non-null    object \n",
            "dtypes: float64(6), object(1)\n",
            "memory usage: 12.5+ KB\n"
          ]
        }
      ]
    },
    {
      "cell_type": "markdown",
      "metadata": {
        "id": "XZO4J1hT1v4W"
      },
      "source": [
        "## Step 3: Class Balance"
      ]
    },
    {
      "cell_type": "code",
      "metadata": {
        "id": "XyeHhv8u1v4W",
        "colab": {
          "base_uri": "https://localhost:8080/",
          "height": 71
        },
        "outputId": "08d8036f-b108-4978-9d48-ef124a1b25e0"
      },
      "source": [
        "# explore the balance of classes\n",
        "sample[\"class\"].value_counts().plot(kind=\"bar\")"
      ],
      "execution_count": null,
      "outputs": [
        {
          "output_type": "execute_result",
          "data": {
            "text/plain": [
              "<matplotlib.axes._subplots.AxesSubplot at 0x7f2b76086cd0>"
            ]
          },
          "metadata": {},
          "execution_count": 20
        },
        {
          "output_type": "display_data",
          "data": {
            "image/png": "[encoded data removed]",
            "text/plain": [
              "<Figure size 432x288 with 1 Axes>"
            ]
          },
          "metadata": {
            "needs_background": "light"
          }
        }
      ]
    },
    {
      "cell_type": "code",
      "metadata": {
        "colab": {
          "base_uri": "https://localhost:8080/"
        },
        "id": "XSR6JriMuQz9",
        "outputId": "e6153d71-9044-41e4-e671-7f36f9c1b115"
      },
      "source": [
        "sample[\"class\"].value_counts() # overall, 200 samples."
      ],
      "execution_count": null,
      "outputs": [
        {
          "output_type": "execute_result",
          "data": {
            "text/plain": [
              "Abnormal    110\n",
              "Normal       90\n",
              "Name: class, dtype: int64"
            ]
          },
          "metadata": {},
          "execution_count": 21
        }
      ]
    },
    {
      "cell_type": "code",
      "metadata": {
        "colab": {
          "base_uri": "https://localhost:8080/"
        },
        "id": "AG3_-7-2uWrF",
        "outputId": "1273f6eb-af5e-486c-8e75-15be30e45517"
      },
      "source": [
        "110/200 # abnormal part"
      ],
      "execution_count": null,
      "outputs": [
        {
          "output_type": "execute_result",
          "data": {
            "text/plain": [
              "0.55"
            ]
          },
          "metadata": {},
          "execution_count": 22
        }
      ]
    },
    {
      "cell_type": "code",
      "metadata": {
        "colab": {
          "base_uri": "https://localhost:8080/"
        },
        "id": "u4E6OW5rufPh",
        "outputId": "7b1405f9-58ad-4d39-bd8f-589747932c0c"
      },
      "source": [
        "90/200 # normal part"
      ],
      "execution_count": null,
      "outputs": [
        {
          "output_type": "execute_result",
          "data": {
            "text/plain": [
              "0.45"
            ]
          },
          "metadata": {},
          "execution_count": 23
        }
      ]
    },
    {
      "cell_type": "code",
      "metadata": {
        "id": "Wx-G8T4o1v4X"
      },
      "source": [
        "# as we may see, there is a slight disbalance of classes ((45/55)%. Nevertheless, it's all right."
      ],
      "execution_count": null,
      "outputs": []
    },
    {
      "cell_type": "markdown",
      "metadata": {
        "id": "1lq50ySc1v4X"
      },
      "source": [
        "## Step 4: Outliers"
      ]
    },
    {
      "cell_type": "code",
      "metadata": {
        "colab": {
          "base_uri": "https://localhost:8080/"
        },
        "id": "OwJj0-TQBoRe",
        "outputId": "5c23f35f-b419-4a74-f461-f6e62d6b3ceb"
      },
      "source": [
        "sample.columns # 'jump_height', 'class' are not going to be used then - [:6]"
      ],
      "execution_count": null,
      "outputs": [
        {
          "output_type": "execute_result",
          "data": {
            "text/plain": [
              "Index(['pelvic_incidence', 'pelvic_tilt numeric', 'lumbar_lordosis_angle',\n",
              "       'sacral_slope', 'pelvic_radius', 'degree_spondylolisthesis', 'class'],\n",
              "      dtype='object')"
            ]
          },
          "metadata": {},
          "execution_count": 25
        }
      ]
    },
    {
      "cell_type": "code",
      "metadata": {
        "id": "LCPfqf_a1v4X",
        "colab": {
          "base_uri": "https://localhost:8080/",
          "height": 54
        },
        "outputId": "b2de6782-b19a-43c4-de31-c37a8cebabb1"
      },
      "source": [
        "# Let's explore outliers in the data\n",
        "fig, axes = plt.subplots(nrows = 2, ncols = 3, figsize = (17, 11))\n",
        "\n",
        "for idx, feat in enumerate(sample.columns[:6]):\n",
        "    sns.boxplot(x=\"class\", y=feat, data=sample, ax=axes[int(idx / 3), idx % 3])\n",
        "    axes[int(idx / 3), idx % 3].set_xlabel(\"class\")\n",
        "    axes[int(idx / 3), idx % 3].set_ylabel(feat);"
      ],
      "execution_count": null,
      "outputs": [
        {
          "output_type": "display_data",
          "data": {
            "image/png": "[encoded data removed]",
            "text/plain": [
              "<Figure size 1224x792 with 6 Axes>"
            ]
          },
          "metadata": {
            "needs_background": "light"
          }
        }
      ]
    },
    {
      "cell_type": "code",
      "metadata": {
        "id": "6azJoOFt1v4Y"
      },
      "source": [
        "# Are there any outliers in the data?\n",
        "# r: yes, there are. "
      ],
      "execution_count": null,
      "outputs": []
    },
    {
      "cell_type": "code",
      "metadata": {
        "id": "tr2-DaEK1v4Y",
        "colab": {
          "base_uri": "https://localhost:8080/",
          "height": 54
        },
        "outputId": "5c1a34e7-52da-4fc3-e17f-df7e1189edda"
      },
      "source": [
        "# let's look at the data skewness\n",
        "sample[sample.columns[:6]].hist(figsize=(11,11));"
      ],
      "execution_count": null,
      "outputs": [
        {
          "output_type": "display_data",
          "data": {
            "image/png": "[encoded data removed]",
            "text/plain": [
              "<Figure size 792x792 with 6 Axes>"
            ]
          },
          "metadata": {
            "needs_background": "light"
          }
        }
      ]
    },
    {
      "cell_type": "code",
      "metadata": {
        "id": "560GHa2r1v4Y"
      },
      "source": [
        "# Which features have skewness?\n",
        "# r: the following features have skewness:\n",
        "# \"degree_spondylolisthesis\" (the strongest skewness)\n",
        "# \"pelvic_tilt numeric\", \"lumbar_lordosis_angle\", \"pelvic_radius\" (the normal/slight skewness)."
      ],
      "execution_count": null,
      "outputs": []
    },
    {
      "cell_type": "code",
      "metadata": {
        "id": "u9manxxvDlJh"
      },
      "source": [
        "# Do a boxplot and a histogram for a feature fit together (matching)?\n",
        "# r: yes"
      ],
      "execution_count": null,
      "outputs": []
    },
    {
      "cell_type": "code",
      "metadata": {
        "colab": {
          "base_uri": "https://localhost:8080/",
          "height": 148
        },
        "id": "nIqqX6XbHFsC",
        "outputId": "a88d8a94-6ad9-4f97-d63c-16c297642da2"
      },
      "source": [
        "# delete outliers out of three-sigma\n",
        "low = 0.01\n",
        "high = 0.99\n",
        "quant_data = sample.quantile([low,high]) \n",
        "\n",
        "# find values of lim [1% values below for low] and [1% values above for high]\n",
        "quant_data"
      ],
      "execution_count": null,
      "outputs": [
        {
          "output_type": "execute_result",
          "data": {
            "text/html": [
              "<div>\n",
              "<style scoped>\n",
              "    .dataframe tbody tr th:only-of-type {\n",
              "        vertical-align: middle;\n",
              "    }\n",
              "\n",
              "    .dataframe tbody tr th {\n",
              "        vertical-align: top;\n",
              "    }\n",
              "\n",
              "    .dataframe thead th {\n",
              "        text-align: right;\n",
              "    }\n",
              "</style>\n",
              "<table border=\"1\" class=\"dataframe\">\n",
              "  <thead>\n",
              "    <tr style=\"text-align: right;\">\n",
              "      <th></th>\n",
              "      <th>pelvic_incidence</th>\n",
              "      <th>pelvic_tilt numeric</th>\n",
              "      <th>lumbar_lordosis_angle</th>\n",
              "      <th>sacral_slope</th>\n",
              "      <th>pelvic_radius</th>\n",
              "      <th>degree_spondylolisthesis</th>\n",
              "    </tr>\n",
              "  </thead>\n",
              "  <tbody>\n",
              "    <tr>\n",
              "      <th>0.01</th>\n",
              "      <td>34.38</td>\n",
              "      <td>-2.98</td>\n",
              "      <td>23.96</td>\n",
              "      <td>20.44</td>\n",
              "      <td>88.37</td>\n",
              "      <td>-8.30</td>\n",
              "    </tr>\n",
              "    <tr>\n",
              "      <th>0.99</th>\n",
              "      <td>96.85</td>\n",
              "      <td>48.08</td>\n",
              "      <td>93.91</td>\n",
              "      <td>77.21</td>\n",
              "      <td>146.48</td>\n",
              "      <td>118.42</td>\n",
              "    </tr>\n",
              "  </tbody>\n",
              "</table>\n",
              "</div>"
            ],
            "text/plain": [
              "      pelvic_incidence  ...  degree_spondylolisthesis\n",
              "0.01             34.38  ...                     -8.30\n",
              "0.99             96.85  ...                    118.42\n",
              "\n",
              "[2 rows x 6 columns]"
            ]
          },
          "metadata": {},
          "execution_count": 31
        }
      ]
    },
    {
      "cell_type": "code",
      "metadata": {
        "id": "iDeCHB71BRSw"
      },
      "source": [
        "# delete outliers out of three-sigma\n",
        "for name in list(sample.drop(labels=[\"class\"], axis = 1).columns): # all column names except for \"class\"\n",
        "    sample = sample[(sample[name] > quant_data.loc[low, name]) & (sample[name] < quant_data.loc[high, name])]"
      ],
      "execution_count": null,
      "outputs": []
    },
    {
      "cell_type": "code",
      "metadata": {
        "id": "BQIvRqDC1v4Z",
        "colab": {
          "base_uri": "https://localhost:8080/",
          "height": 54
        },
        "outputId": "a0b8dea0-34b5-4969-f1aa-8c4cfed4349c"
      },
      "source": [
        "# look at the data skewness now\n",
        "sample[sample.columns[:6]].hist(figsize=(12,12));"
      ],
      "execution_count": null,
      "outputs": [
        {
          "output_type": "display_data",
          "data": {
            "image/png": "[encoded data removed]",
            "text/plain": [
              "<Figure size 864x864 with 6 Axes>"
            ]
          },
          "metadata": {
            "needs_background": "light"
          }
        }
      ]
    },
    {
      "cell_type": "markdown",
      "metadata": {
        "id": "-w31Idkq1v4Z"
      },
      "source": [
        "## Step 5: Scale"
      ]
    },
    {
      "cell_type": "code",
      "metadata": {
        "id": "-yq8wPS9m7hL"
      },
      "source": [
        "# Let's divide the dataset into X and Y ..\n",
        "X = sample.drop(labels=[\"class\"], axis=1)\n",
        "Y = sample[\"class\"]"
      ],
      "execution_count": null,
      "outputs": []
    },
    {
      "cell_type": "code",
      "metadata": {
        "colab": {
          "base_uri": "https://localhost:8080/",
          "height": 524
        },
        "id": "rnWLbuC-m8wm",
        "outputId": "e50e5561-aa2f-4769-d425-830531023dbd"
      },
      "source": [
        "X"
      ],
      "execution_count": null,
      "outputs": [
        {
          "output_type": "execute_result",
          "data": {
            "text/html": [
              "<div>\n",
              "<style scoped>\n",
              "    .dataframe tbody tr th:only-of-type {\n",
              "        vertical-align: middle;\n",
              "    }\n",
              "\n",
              "    .dataframe tbody tr th {\n",
              "        vertical-align: top;\n",
              "    }\n",
              "\n",
              "    .dataframe thead th {\n",
              "        text-align: right;\n",
              "    }\n",
              "</style>\n",
              "<table border=\"1\" class=\"dataframe\">\n",
              "  <thead>\n",
              "    <tr style=\"text-align: right;\">\n",
              "      <th></th>\n",
              "      <th>pelvic_incidence</th>\n",
              "      <th>pelvic_tilt numeric</th>\n",
              "      <th>lumbar_lordosis_angle</th>\n",
              "      <th>sacral_slope</th>\n",
              "      <th>pelvic_radius</th>\n",
              "      <th>degree_spondylolisthesis</th>\n",
              "    </tr>\n",
              "  </thead>\n",
              "  <tbody>\n",
              "    <tr>\n",
              "      <th>9</th>\n",
              "      <td>43.92</td>\n",
              "      <td>14.18</td>\n",
              "      <td>37.83</td>\n",
              "      <td>29.74</td>\n",
              "      <td>134.46</td>\n",
              "      <td>6.45</td>\n",
              "    </tr>\n",
              "    <tr>\n",
              "      <th>184</th>\n",
              "      <td>37.14</td>\n",
              "      <td>16.48</td>\n",
              "      <td>24.00</td>\n",
              "      <td>20.66</td>\n",
              "      <td>125.01</td>\n",
              "      <td>7.37</td>\n",
              "    </tr>\n",
              "    <tr>\n",
              "      <th>120</th>\n",
              "      <td>63.36</td>\n",
              "      <td>20.02</td>\n",
              "      <td>67.50</td>\n",
              "      <td>43.34</td>\n",
              "      <td>131.00</td>\n",
              "      <td>37.56</td>\n",
              "    </tr>\n",
              "    <tr>\n",
              "      <th>207</th>\n",
              "      <td>34.76</td>\n",
              "      <td>2.63</td>\n",
              "      <td>29.50</td>\n",
              "      <td>32.12</td>\n",
              "      <td>127.14</td>\n",
              "      <td>-0.46</td>\n",
              "    </tr>\n",
              "    <tr>\n",
              "      <th>148</th>\n",
              "      <td>40.68</td>\n",
              "      <td>9.15</td>\n",
              "      <td>31.02</td>\n",
              "      <td>31.53</td>\n",
              "      <td>139.12</td>\n",
              "      <td>-2.51</td>\n",
              "    </tr>\n",
              "    <tr>\n",
              "      <th>...</th>\n",
              "      <td>...</td>\n",
              "      <td>...</td>\n",
              "      <td>...</td>\n",
              "      <td>...</td>\n",
              "      <td>...</td>\n",
              "      <td>...</td>\n",
              "    </tr>\n",
              "    <tr>\n",
              "      <th>160</th>\n",
              "      <td>47.81</td>\n",
              "      <td>10.69</td>\n",
              "      <td>54.00</td>\n",
              "      <td>37.12</td>\n",
              "      <td>125.39</td>\n",
              "      <td>-0.40</td>\n",
              "    </tr>\n",
              "    <tr>\n",
              "      <th>217</th>\n",
              "      <td>54.60</td>\n",
              "      <td>21.49</td>\n",
              "      <td>29.36</td>\n",
              "      <td>33.11</td>\n",
              "      <td>118.34</td>\n",
              "      <td>24.33</td>\n",
              "    </tr>\n",
              "    <tr>\n",
              "      <th>187</th>\n",
              "      <td>39.36</td>\n",
              "      <td>7.01</td>\n",
              "      <td>37.00</td>\n",
              "      <td>32.35</td>\n",
              "      <td>117.82</td>\n",
              "      <td>1.90</td>\n",
              "    </tr>\n",
              "    <tr>\n",
              "      <th>191</th>\n",
              "      <td>51.33</td>\n",
              "      <td>13.63</td>\n",
              "      <td>33.26</td>\n",
              "      <td>37.69</td>\n",
              "      <td>131.31</td>\n",
              "      <td>1.79</td>\n",
              "    </tr>\n",
              "    <tr>\n",
              "      <th>129</th>\n",
              "      <td>45.70</td>\n",
              "      <td>10.66</td>\n",
              "      <td>42.58</td>\n",
              "      <td>35.04</td>\n",
              "      <td>130.18</td>\n",
              "      <td>-3.39</td>\n",
              "    </tr>\n",
              "  </tbody>\n",
              "</table>\n",
              "<p>181 rows × 6 columns</p>\n",
              "</div>"
            ],
            "text/plain": [
              "     pelvic_incidence  ...  degree_spondylolisthesis\n",
              "9               43.92  ...                      6.45\n",
              "184             37.14  ...                      7.37\n",
              "120             63.36  ...                     37.56\n",
              "207             34.76  ...                     -0.46\n",
              "148             40.68  ...                     -2.51\n",
              "..                ...  ...                       ...\n",
              "160             47.81  ...                     -0.40\n",
              "217             54.60  ...                     24.33\n",
              "187             39.36  ...                      1.90\n",
              "191             51.33  ...                      1.79\n",
              "129             45.70  ...                     -3.39\n",
              "\n",
              "[181 rows x 6 columns]"
            ]
          },
          "metadata": {},
          "execution_count": 35
        }
      ]
    },
    {
      "cell_type": "code",
      "metadata": {
        "colab": {
          "base_uri": "https://localhost:8080/"
        },
        "id": "mqmFt3dCm-hv",
        "outputId": "57b4fc3c-d3fc-4363-a3ff-4be0ea254748"
      },
      "source": [
        "Y"
      ],
      "execution_count": null,
      "outputs": [
        {
          "output_type": "execute_result",
          "data": {
            "text/plain": [
              "9      Abnormal\n",
              "184      Normal\n",
              "120    Abnormal\n",
              "207      Normal\n",
              "148      Normal\n",
              "         ...   \n",
              "160      Normal\n",
              "217      Normal\n",
              "187      Normal\n",
              "191      Normal\n",
              "129      Normal\n",
              "Name: class, Length: 181, dtype: object"
            ]
          },
          "metadata": {},
          "execution_count": 36
        }
      ]
    },
    {
      "cell_type": "code",
      "metadata": {
        "id": "wZ3xK_gV1v4a"
      },
      "source": [
        "# .. and train & test with the 80/20 % relation\n",
        "X_train, X_test, Y_train, Y_test = train_test_split(X, Y, test_size = 0.2, random_state = 1)"
      ],
      "execution_count": null,
      "outputs": []
    },
    {
      "cell_type": "code",
      "metadata": {
        "id": "X5wJpGnZt7sO"
      },
      "source": [
        "# use Data Scaling\n",
        "from sklearn.preprocessing import StandardScaler\n",
        "scaler = StandardScaler()\n",
        "X_train_array = scaler.fit_transform(X_train)\n",
        "X_train = pd.DataFrame(X_train_array, index=X_train.index, columns=X_train.columns)\n",
        "X_test_array = scaler.transform(X_test)\n",
        "X_test = pd.DataFrame(X_test_array, index=X_test.index, columns=X_test.columns)"
      ],
      "execution_count": null,
      "outputs": []
    },
    {
      "cell_type": "code",
      "metadata": {
        "id": "7YABzRL51v4c",
        "colab": {
          "base_uri": "https://localhost:8080/",
          "height": 54
        },
        "outputId": "8f7c3031-67e9-4925-fa57-2f2df0e44ab7"
      },
      "source": [
        "# then, let's look at the histograms of features\n",
        "X_train[X_train.columns[:6]].hist(figsize=(12,12));"
      ],
      "execution_count": null,
      "outputs": [
        {
          "output_type": "display_data",
          "data": {
            "image/png": "[encoded data removed]",
            "text/plain": [
              "<Figure size 864x864 with 6 Axes>"
            ]
          },
          "metadata": {
            "needs_background": "light"
          }
        }
      ]
    },
    {
      "cell_type": "code",
      "metadata": {
        "id": "-Kl6_Zaf1v4d"
      },
      "source": [
        "# What changed?\n",
        "# r: on the histograms above we may see that the values of the x axis are changed (zero-centering of the data)\n",
        "# now, the values of each feature in the data have zero-mean and unit-variance\n",
        "# p.s. the distribution of the data is changed a little bit due to the reduction of 20 perc. of the initial data (the train data (80%))"
      ],
      "execution_count": null,
      "outputs": []
    },
    {
      "cell_type": "markdown",
      "metadata": {
        "id": "2MYYSb4Y1v4f"
      },
      "source": [
        "## Step 6: PCA"
      ]
    },
    {
      "cell_type": "code",
      "metadata": {
        "id": "aI10YOKW1v4f",
        "colab": {
          "base_uri": "https://localhost:8080/"
        },
        "outputId": "c9dac682-8228-414b-92a3-360a604e41f1"
      },
      "source": [
        "# perform PCA with six components and train it on the X_train data set\n",
        "pca = PCA(n_components = 6)\n",
        "pca.fit(X_train)"
      ],
      "execution_count": null,
      "outputs": [
        {
          "output_type": "execute_result",
          "data": {
            "text/plain": [
              "PCA(copy=True, iterated_power='auto', n_components=6, random_state=None,\n",
              "    svd_solver='auto', tol=0.0, whiten=False)"
            ]
          },
          "metadata": {},
          "execution_count": 41
        }
      ]
    },
    {
      "cell_type": "code",
      "metadata": {
        "id": "gn5rcKoA1v4g"
      },
      "source": [
        "# transform PCA\n",
        "X_train_pca = pca.transform(X_train)\n",
        "X_test_pca = pca.transform(X_test)"
      ],
      "execution_count": null,
      "outputs": []
    },
    {
      "cell_type": "code",
      "metadata": {
        "id": "IlmfFzuZ1v4g",
        "colab": {
          "base_uri": "https://localhost:8080/",
          "height": 279
        },
        "outputId": "9c202e15-1154-456f-99d6-be15402cf90c"
      },
      "source": [
        "# create bar plot\n",
        "plt.bar(range(pca.n_components_), pca.explained_variance_)\n",
        "plt.xlabel(\"PCA feature\")\n",
        "plt.ylabel(\"variance\")\n",
        "plt.show()"
      ],
      "execution_count": null,
      "outputs": [
        {
          "output_type": "display_data",
          "data": {
            "image/png": "[encoded data removed]",
            "text/plain": [
              "<Figure size 432x288 with 1 Axes>"
            ]
          },
          "metadata": {
            "needs_background": "light"
          }
        }
      ]
    },
    {
      "cell_type": "code",
      "metadata": {
        "id": "7NOaIy-h8gcG"
      },
      "source": [
        "# convert Y_train data set into the values 0,1\n",
        "d = dict(zip(set(Y_train), [0,1]))\n",
        "label = list()\n",
        "for i in Y_train:\n",
        "    label.append(d[i])"
      ],
      "execution_count": null,
      "outputs": []
    },
    {
      "cell_type": "code",
      "metadata": {
        "colab": {
          "base_uri": "https://localhost:8080/",
          "height": 428
        },
        "id": "20WGcgWo9n3L",
        "outputId": "e5a40509-a15d-445d-d5f0-11bc92bd0da8"
      },
      "source": [
        "# and create the plot based on the first 2 components / 1-2\n",
        "plt.figure(figsize=(11,7))\n",
        "plt.scatter(X_train_pca[:, 0], X_train_pca[:, 1], c=label, s=70, cmap='icefire_r') # 1 n 2 comp [:,0] [:,1]\n",
        "plt.show()"
      ],
      "execution_count": null,
      "outputs": [
        {
          "output_type": "display_data",
          "data": {
            "image/png": "[encoded data removed]",
            "text/plain": [
              "<Figure size 792x504 with 1 Axes>"
            ]
          },
          "metadata": {
            "needs_background": "light"
          }
        }
      ]
    },
    {
      "cell_type": "code",
      "metadata": {
        "colab": {
          "base_uri": "https://localhost:8080/",
          "height": 428
        },
        "id": "dSoWj_ZjEAQM",
        "outputId": "8a6fdb9b-4d43-4406-9a2a-95d414135a27"
      },
      "source": [
        "# .. create the plot based on the 2nd and the 3rd components / 2-3\n",
        "plt.figure(figsize=(11,7))\n",
        "plt.scatter(X_train_pca[:, 1], X_train_pca[:, 2], c=label, s=70, cmap='icefire_r')\n",
        "plt.show()"
      ],
      "execution_count": null,
      "outputs": [
        {
          "output_type": "display_data",
          "data": {
            "image/png": "[encoded data removed]",
            "text/plain": [
              "<Figure size 792x504 with 1 Axes>"
            ]
          },
          "metadata": {
            "needs_background": "light"
          }
        }
      ]
    },
    {
      "cell_type": "code",
      "metadata": {
        "colab": {
          "base_uri": "https://localhost:8080/",
          "height": 428
        },
        "id": "JzEpiWrfEO15",
        "outputId": "42a4f7b9-26d1-45ce-e259-33eda098ae3a"
      },
      "source": [
        "# .. create the plot based on the 1st and the 3rd components / 1-3\n",
        "plt.figure(figsize=(11,7))\n",
        "plt.scatter(X_train_pca[:, 0], X_train_pca[:, 2], c=label, s=70, cmap='icefire_r')\n",
        "plt.show()"
      ],
      "execution_count": null,
      "outputs": [
        {
          "output_type": "display_data",
          "data": {
            "image/png": "[encoded data removed]",
            "text/plain": [
              "<Figure size 792x504 with 1 Axes>"
            ]
          },
          "metadata": {
            "needs_background": "light"
          }
        }
      ]
    },
    {
      "cell_type": "code",
      "metadata": {
        "colab": {
          "base_uri": "https://localhost:8080/"
        },
        "id": "YSs4tEuGTgK2",
        "outputId": "17764e05-5474-417a-e68d-eaa48b48e8e5"
      },
      "source": [
        "# how many components may explain >95% variance\n",
        "for i in range(5):\n",
        "    print( str(i) + \" parameters managed to capture: \" + \n",
        "    str(sum(pca.explained_variance_ratio_[:i]))[:5] + \" of explained variance\")"
      ],
      "execution_count": null,
      "outputs": [
        {
          "output_type": "stream",
          "name": "stdout",
          "text": [
            "0 parameters managed to capture: 0 of explained variance\n",
            "1 parameters managed to capture: 0.562 of explained variance\n",
            "2 parameters managed to capture: 0.766 of explained variance\n",
            "3 parameters managed to capture: 0.871 of explained variance\n",
            "4 parameters managed to capture: 0.955 of explained variance\n"
          ]
        }
      ]
    }
  ]
}