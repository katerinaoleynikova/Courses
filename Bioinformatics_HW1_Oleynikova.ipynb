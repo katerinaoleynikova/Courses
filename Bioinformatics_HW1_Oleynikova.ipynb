{
  "nbformat": 4,
  "nbformat_minor": 0,
  "metadata": {
    "colab": {
      "name": "Bioinformatics_HW1_Oleynikova.ipynb",
      "provenance": [],
      "collapsed_sections": [
        "XmzB6GtvZbSu"
      ]
    },
    "kernelspec": {
      "name": "python3",
      "display_name": "Python 3"
    },
    "language_info": {
      "name": "python"
    }
  },
  "cells": [
    {
      "cell_type": "markdown",
      "source": [
        "## Practical Bioinformatics. Homework 1"
      ],
      "metadata": {
        "id": "eAvT47eCO-Y9"
      }
    },
    {
      "cell_type": "markdown",
      "source": [
        "### Biopython: Installation\n"
      ],
      "metadata": {
        "id": "XmzB6GtvZbSu"
      }
    },
    {
      "cell_type": "code",
      "source": [
        "!pip install biopython\n",
        "import Bio"
      ],
      "metadata": {
        "colab": {
          "base_uri": "https://localhost:8080/"
        },
        "id": "qjwOOmraZzeN",
        "outputId": "4a3b89b2-4c15-4ccc-91f1-b493097bde25"
      },
      "execution_count": 1,
      "outputs": [
        {
          "output_type": "stream",
          "name": "stdout",
          "text": [
            "Collecting biopython\n",
            "  Downloading biopython-1.79-cp37-cp37m-manylinux_2_5_x86_64.manylinux1_x86_64.whl (2.3 MB)\n",
            "\u001b[K     |████████████████████████████████| 2.3 MB 10.9 MB/s \n",
            "\u001b[?25hRequirement already satisfied: numpy in /usr/local/lib/python3.7/dist-packages (from biopython) (1.19.5)\n",
            "Installing collected packages: biopython\n",
            "Successfully installed biopython-1.79\n"
          ]
        }
      ]
    },
    {
      "cell_type": "markdown",
      "source": [
        "### GenBank and EMBOSS"
      ],
      "metadata": {
        "id": "BZIRajBaPhrL"
      }
    },
    {
      "cell_type": "markdown",
      "source": [
        "Let's find the bacterial genome (in my case, its accession number is CP045149.1) in the GenBank and download it as FASTA format."
      ],
      "metadata": {
        "id": "XAtmB1hKP_6t"
      }
    },
    {
      "cell_type": "markdown",
      "source": [
        "An accession number in bioinformatics is a unique identifier given to a DNA or protein sequence record to allow for tracking of different versions of that sequence record and the associated sequence over time in a single data repository."
      ],
      "metadata": {
        "id": "EaMNQmUZUrmL"
      }
    },
    {
      "cell_type": "code",
      "source": [
        "from Bio import Entrez\n",
        "Entrez.email = \"Your.Name.Here@example.org\"\n",
        "handle = Entrez.efetch(db=\"nucleotide\", id=\"CP045149.1\", rettype=\"fasta\", retmode=\"text\")\n",
        "print(handle.readline().strip())\n",
        "handle.close()"
      ],
      "metadata": {
        "colab": {
          "base_uri": "https://localhost:8080/"
        },
        "id": "5DZV7GCxX-K1",
        "outputId": "69dbee2e-36ba-4a00-95fd-d669e77b63c8"
      },
      "execution_count": 2,
      "outputs": [
        {
          "output_type": "stream",
          "name": "stdout",
          "text": [
            ">CP045149.1 Yersinia pestis strain SCPM-O-DNA-18 (I-3113) chromosome, complete genome\n"
          ]
        }
      ]
    },
    {
      "cell_type": "code",
      "source": [
        "search_term = \"Yersinia pestis strain SCPM-O-DNA-18 (I-3113) chromosome, complete genome\"\n",
        "handle = Entrez.esearch(db='nucleotide', term=search_term, retmax=20)\n",
        "result = Entrez.read(handle)\n",
        "handle.close()\n",
        "print(result)"
      ],
      "metadata": {
        "colab": {
          "base_uri": "https://localhost:8080/"
        },
        "id": "hsj2Zo3iZLJs",
        "outputId": "82262626-3d66-43bf-c3c5-c74c80e8ff40"
      },
      "execution_count": 3,
      "outputs": [
        {
          "output_type": "stream",
          "name": "stdout",
          "text": [
            "{'Count': '3', 'RetMax': '3', 'RetStart': '0', 'IdList': ['1769169000', '1769093841', '1769089848'], 'TranslationSet': [{'From': 'Yersinia pestis', 'To': '\"Yersinia pestis\"[Organism] OR Yersinia pestis[All Fields]'}], 'TranslationStack': [{'Term': '\"Yersinia pestis\"[Organism]', 'Field': 'Organism', 'Count': '456940', 'Explode': 'Y'}, {'Term': 'Yersinia pestis[All Fields]', 'Field': 'All Fields', 'Count': '472721', 'Explode': 'N'}, 'OR', 'GROUP', {'Term': 'strain[All Fields]', 'Field': 'All Fields', 'Count': '133686779', 'Explode': 'N'}, 'AND', {'Term': 'SCPM-O-DNA-18[All Fields]', 'Field': 'All Fields', 'Count': '10', 'Explode': 'N'}, 'AND', 'GROUP', {'Term': 'I-3113[All Fields]', 'Field': 'All Fields', 'Count': '13', 'Explode': 'N'}, 'AND', {'Term': 'chromosome[All Fields]', 'Field': 'All Fields', 'Count': '71214746', 'Explode': 'N'}, {'Term': 'complete[All Fields]', 'Field': 'All Fields', 'Count': '48680910', 'Explode': 'N'}, 'AND', {'Term': 'genome[All Fields]', 'Field': 'All Fields', 'Count': '240436224', 'Explode': 'N'}, 'AND', 'GROUP', 'AND'], 'QueryTranslation': '((\"Yersinia pestis\"[Organism] OR Yersinia pestis[All Fields]) AND strain[All Fields] AND SCPM-O-DNA-18[All Fields]) AND I-3113[All Fields] AND (chromosome[All Fields] AND complete[All Fields] AND genome[All Fields])'}\n"
          ]
        }
      ]
    },
    {
      "cell_type": "code",
      "source": [
        "# let's take the first search result w/ Id '1769169000'\n",
        "\n",
        "genome_id = '1769169000'\n",
        "record = Entrez.efetch(db=\"nucleotide\", id=genome_id, rettype=\"fasta\", retmode=\"text\")\n",
        "filename = 'Sequence_{}.fasta'.format(genome_id)\n",
        "print('Writing:{}'.format(filename))\n",
        "with open(filename, 'w') as f:\n",
        "  f.write(record.read())"
      ],
      "metadata": {
        "colab": {
          "base_uri": "https://localhost:8080/"
        },
        "id": "gPXZ0IqDaGEF",
        "outputId": "3c7c2bbb-d16f-4c08-d35a-06fcba91674f"
      },
      "execution_count": 4,
      "outputs": [
        {
          "output_type": "stream",
          "name": "stdout",
          "text": [
            "Writing:Sequence_1769169000.fasta\n"
          ]
        }
      ]
    },
    {
      "cell_type": "markdown",
      "source": [
        "Then we need to install EMBOSS."
      ],
      "metadata": {
        "id": "aELoaxgZFRKq"
      }
    },
    {
      "cell_type": "code",
      "source": [
        "!apt-get install emboss -q"
      ],
      "metadata": {
        "colab": {
          "base_uri": "https://localhost:8080/"
        },
        "id": "20nh-9D3zjq4",
        "outputId": "000d0638-0718-495c-d448-187a9357069e"
      },
      "execution_count": 1,
      "outputs": [
        {
          "output_type": "stream",
          "name": "stdout",
          "text": [
            "Reading package lists...\n",
            "Building dependency tree...\n",
            "Reading state information...\n",
            "The following packages were automatically installed and are no longer required:\n",
            "  cuda-command-line-tools-10-0 cuda-command-line-tools-10-1\n",
            "  cuda-command-line-tools-11-0 cuda-compiler-10-0 cuda-compiler-10-1\n",
            "  cuda-compiler-11-0 cuda-cuobjdump-10-0 cuda-cuobjdump-10-1\n",
            "  cuda-cuobjdump-11-0 cuda-cupti-10-0 cuda-cupti-10-1 cuda-cupti-11-0\n",
            "  cuda-cupti-dev-11-0 cuda-documentation-10-0 cuda-documentation-10-1\n",
            "  cuda-documentation-11-0 cuda-documentation-11-1 cuda-gdb-10-0 cuda-gdb-10-1\n",
            "  cuda-gdb-11-0 cuda-gpu-library-advisor-10-0 cuda-gpu-library-advisor-10-1\n",
            "  cuda-libraries-10-0 cuda-libraries-10-1 cuda-libraries-11-0\n",
            "  cuda-memcheck-10-0 cuda-memcheck-10-1 cuda-memcheck-11-0 cuda-nsight-10-0\n",
            "  cuda-nsight-10-1 cuda-nsight-11-0 cuda-nsight-11-1 cuda-nsight-compute-10-0\n",
            "  cuda-nsight-compute-10-1 cuda-nsight-compute-11-0 cuda-nsight-compute-11-1\n",
            "  cuda-nsight-systems-10-1 cuda-nsight-systems-11-0 cuda-nsight-systems-11-1\n",
            "  cuda-nvcc-10-0 cuda-nvcc-10-1 cuda-nvcc-11-0 cuda-nvdisasm-10-0\n",
            "  cuda-nvdisasm-10-1 cuda-nvdisasm-11-0 cuda-nvml-dev-10-0 cuda-nvml-dev-10-1\n",
            "  cuda-nvml-dev-11-0 cuda-nvprof-10-0 cuda-nvprof-10-1 cuda-nvprof-11-0\n",
            "  cuda-nvprune-10-0 cuda-nvprune-10-1 cuda-nvprune-11-0 cuda-nvtx-10-0\n",
            "  cuda-nvtx-10-1 cuda-nvtx-11-0 cuda-nvvp-10-0 cuda-nvvp-10-1 cuda-nvvp-11-0\n",
            "  cuda-nvvp-11-1 cuda-samples-10-0 cuda-samples-10-1 cuda-samples-11-0\n",
            "  cuda-samples-11-1 cuda-sanitizer-11-0 cuda-sanitizer-api-10-1\n",
            "  cuda-toolkit-10-0 cuda-toolkit-10-1 cuda-toolkit-11-0 cuda-toolkit-11-1\n",
            "  cuda-tools-10-0 cuda-tools-10-1 cuda-tools-11-0 cuda-tools-11-1\n",
            "  cuda-visual-tools-10-0 cuda-visual-tools-10-1 cuda-visual-tools-11-0\n",
            "  cuda-visual-tools-11-1 default-jre dkms freeglut3 freeglut3-dev\n",
            "  keyboard-configuration libargon2-0 libcap2 libcryptsetup12\n",
            "  libdevmapper1.02.1 libfontenc1 libidn11 libip4tc0 libjansson4\n",
            "  libnvidia-cfg1-510 libnvidia-common-460 libnvidia-common-510\n",
            "  libnvidia-extra-510 libnvidia-fbc1-510 libnvidia-gl-510 libpam-systemd\n",
            "  libpolkit-agent-1-0 libpolkit-backend-1-0 libpolkit-gobject-1-0 libxfont2\n",
            "  libxi-dev libxkbfile1 libxmu-dev libxmu-headers libxnvctrl0 libxtst6\n",
            "  nsight-compute-2020.2.1 nsight-compute-2022.1.0 nsight-systems-2020.3.2\n",
            "  nsight-systems-2020.3.4 nsight-systems-2021.5.2 nvidia-dkms-510\n",
            "  nvidia-kernel-common-510 nvidia-kernel-source-510 nvidia-modprobe\n",
            "  nvidia-settings openjdk-11-jre policykit-1 policykit-1-gnome python3-xkit\n",
            "  screen-resolution-extra systemd systemd-sysv udev x11-xkb-utils\n",
            "  xserver-common xserver-xorg-core-hwe-18.04 xserver-xorg-video-nvidia-510\n",
            "Use 'apt autoremove' to remove them.\n",
            "The following additional packages will be installed:\n",
            "  dialign emboss-data emboss-lib libhpdf-2.3.0 primer3\n",
            "Suggested packages:\n",
            "  emboss-doc emboss-test embassy clustalw ncbi-epcr\n",
            "The following NEW packages will be installed:\n",
            "  dialign emboss emboss-data emboss-lib libhpdf-2.3.0 primer3\n",
            "0 upgraded, 6 newly installed, 0 to remove and 39 not upgraded.\n",
            "Need to get 65.4 MB of archives.\n",
            "After this operation, 498 MB of additional disk space will be used.\n",
            "Get:1 http://archive.ubuntu.com/ubuntu bionic/universe amd64 dialign amd64 2.2.1-9 [143 kB]\n",
            "Get:2 http://archive.ubuntu.com/ubuntu bionic/universe amd64 libhpdf-2.3.0 amd64 2.3.0+dfsg-1 [336 kB]\n",
            "Get:3 http://archive.ubuntu.com/ubuntu bionic/universe amd64 emboss-lib amd64 6.6.0+dfsg-6build1 [2,685 kB]\n",
            "Get:4 http://archive.ubuntu.com/ubuntu bionic/universe amd64 emboss-data all 6.6.0+dfsg-6build1 [61.0 MB]\n",
            "Get:5 http://archive.ubuntu.com/ubuntu bionic/universe amd64 emboss amd64 6.6.0+dfsg-6build1 [997 kB]\n",
            "Get:6 http://archive.ubuntu.com/ubuntu bionic/universe amd64 primer3 amd64 2.4.0-1ubuntu2 [180 kB]\n",
            "Fetched 65.4 MB in 4s (18.2 MB/s)\n",
            "Selecting previously unselected package dialign.\n",
            "(Reading database ... 155113 files and directories currently installed.)\n",
            "Preparing to unpack .../0-dialign_2.2.1-9_amd64.deb ...\n",
            "Unpacking dialign (2.2.1-9) ...\n",
            "Selecting previously unselected package libhpdf-2.3.0:amd64.\n",
            "Preparing to unpack .../1-libhpdf-2.3.0_2.3.0+dfsg-1_amd64.deb ...\n",
            "Unpacking libhpdf-2.3.0:amd64 (2.3.0+dfsg-1) ...\n",
            "Selecting previously unselected package emboss-lib.\n",
            "Preparing to unpack .../2-emboss-lib_6.6.0+dfsg-6build1_amd64.deb ...\n",
            "Unpacking emboss-lib (6.6.0+dfsg-6build1) ...\n",
            "Selecting previously unselected package emboss-data.\n",
            "Preparing to unpack .../3-emboss-data_6.6.0+dfsg-6build1_all.deb ...\n",
            "Unpacking emboss-data (6.6.0+dfsg-6build1) ...\n",
            "Selecting previously unselected package emboss.\n",
            "Preparing to unpack .../4-emboss_6.6.0+dfsg-6build1_amd64.deb ...\n",
            "Unpacking emboss (6.6.0+dfsg-6build1) ...\n",
            "Selecting previously unselected package primer3.\n",
            "Preparing to unpack .../5-primer3_2.4.0-1ubuntu2_amd64.deb ...\n",
            "Unpacking primer3 (2.4.0-1ubuntu2) ...\n",
            "Setting up dialign (2.2.1-9) ...\n",
            "Setting up libhpdf-2.3.0:amd64 (2.3.0+dfsg-1) ...\n",
            "Setting up primer3 (2.4.0-1ubuntu2) ...\n",
            "Setting up emboss-lib (6.6.0+dfsg-6build1) ...\n",
            "Setting up emboss-data (6.6.0+dfsg-6build1) ...\n",
            "Setting up emboss (6.6.0+dfsg-6build1) ...\n",
            "Processing triggers for shared-mime-info (1.9-2) ...\n",
            "Processing triggers for mime-support (3.60ubuntu1) ...\n",
            "Processing triggers for libc-bin (2.27-3ubuntu1.3) ...\n",
            "/sbin/ldconfig.real: /usr/local/lib/python3.7/dist-packages/ideep4py/lib/libmkldnn.so.0 is not a symbolic link\n",
            "\n",
            "Processing triggers for man-db (2.8.3-2ubuntu0.1) ...\n"
          ]
        }
      ]
    },
    {
      "cell_type": "code",
      "source": [
        "#import wget\n",
        "#emboss_url = 'ftp://emboss.open-bio.org/pub/EMBOSS/EMBOSS-6.6.0.tar.gz'\n",
        "#emboss_filename = wget.download(emboss_url)"
      ],
      "metadata": {
        "id": "MdhK0E23GCNs"
      },
      "execution_count": 22,
      "outputs": []
    },
    {
      "cell_type": "code",
      "source": [
        "# untar/unzip EMBOSS\n",
        "\n",
        "#!gunzip EMBOSS-6.6.0.tar.gz\n",
        "#!tar xvf EMBOSS-6.6.0.tar"
      ],
      "metadata": {
        "id": "eXhEUJFyHK-a"
      },
      "execution_count": 2,
      "outputs": []
    },
    {
      "cell_type": "code",
      "source": [
        "# EMBOSS compiling # ..\n",
        "\n",
        "#!EMBOSS-6.6.0/configure --prefix=/usr/local/emboss\n",
        "#!make EMBOSS-6.6.0/emboss/ \n",
        "#!export PATH=home/auser/EMBOSS-6.6.0/emboss:$PATH"
      ],
      "metadata": {
        "id": "zVePmrMfIPfi"
      },
      "execution_count": 3,
      "outputs": []
    },
    {
      "cell_type": "code",
      "source": [
        "!embossversion # to test all is well with your installation"
      ],
      "metadata": {
        "colab": {
          "base_uri": "https://localhost:8080/"
        },
        "id": "Oo36ijSyMjxf",
        "outputId": "1bc90786-96c4-4d0d-a855-f97095c28c7f"
      },
      "execution_count": 32,
      "outputs": [
        {
          "output_type": "stream",
          "name": "stdout",
          "text": [
            "/bin/bash: embossversion: command not found\n"
          ]
        }
      ]
    },
    {
      "cell_type": "code",
      "source": [
        "# see the full length of this genome at first\n",
        "\n",
        "!awk '/^>/{if (l!=\"\") print l; print; l=0; next}{l+=length($0)}END{print l}' Sequence_1769169000.fasta"
      ],
      "metadata": {
        "colab": {
          "base_uri": "https://localhost:8080/"
        },
        "id": "LIS1AwbiSYC0",
        "outputId": "b9285a00-95b0-4aea-f9a6-74c53ddbd9b8"
      },
      "execution_count": 38,
      "outputs": [
        {
          "output_type": "stream",
          "name": "stdout",
          "text": [
            ">NZ_CP045149.1 Yersinia pestis strain SCPM-O-DNA-18 (I-3113) chromosome, complete genome\n",
            "4546217\n"
          ]
        }
      ]
    },
    {
      "cell_type": "markdown",
      "source": [
        "The full length of the genome is 4546217."
      ],
      "metadata": {
        "id": "Jl-jWFAMbtPF"
      }
    },
    {
      "cell_type": "code",
      "source": [
        "import math\n",
        "\n",
        "genome_length = 4546217\n",
        "f = genome_length / 10 # it is needed for the next step [splitter]\n",
        "fragment = math.ceil(f)\n",
        "print(fragment)"
      ],
      "metadata": {
        "colab": {
          "base_uri": "https://localhost:8080/"
        },
        "id": "g9fLWVwib9jJ",
        "outputId": "54f6bf86-4c02-424c-efd6-0622433fa108"
      },
      "execution_count": 39,
      "outputs": [
        {
          "output_type": "stream",
          "name": "stdout",
          "text": [
            "454622\n"
          ]
        }
      ]
    },
    {
      "cell_type": "markdown",
      "source": [
        "Let's cut the genome into ten parts by command _splitter_."
      ],
      "metadata": {
        "id": "xw90Z9e7b7Tn"
      }
    },
    {
      "cell_type": "code",
      "source": [
        "genome = \"Sequence_1769169000.fasta\"\n",
        "!splitter -sequence {genome} -outseq \"Sequence_1769169000_splitted.fasta\" -size 454622 -ossingle2=Y\n",
        "# we get ten files nz_cp045149.1_{nucletide_positions[start,end]} by use of -ossingle2 flag"
      ],
      "metadata": {
        "colab": {
          "base_uri": "https://localhost:8080/"
        },
        "id": "lpXm3SamN7ey",
        "outputId": "571ed9b2-a568-4fa9-c42a-faf79d94f3b8"
      },
      "execution_count": 40,
      "outputs": [
        {
          "output_type": "stream",
          "name": "stdout",
          "text": [
            "Split sequence(s) into smaller sequences\n"
          ]
        }
      ]
    },
    {
      "cell_type": "markdown",
      "source": [
        "Count a number of the following words: AAAA, ATAT, ATTA, AATT (by command _compseq_)."
      ],
      "metadata": {
        "id": "Pvt250-5jOGL"
      }
    },
    {
      "cell_type": "code",
      "source": [
        "import os\n",
        "import glob\n",
        "from pathlib import Path\n",
        "\n",
        "#!pwd -> /content\n",
        "dir = '/content' # set directory w/ needed files\n",
        "files = list(glob.glob(os.path.join(dir,'nz_cp045149.1*')))\n",
        "fragment_files = []\n",
        "\n",
        "for file in files:\n",
        "  fragment_files.append(Path(file).stem)\n",
        "\n",
        "fragment_files"
      ],
      "metadata": {
        "colab": {
          "base_uri": "https://localhost:8080/"
        },
        "id": "W3OE05Q8krWI",
        "outputId": "ca28fc09-7fbd-4ef3-d279-e18201c4818b"
      },
      "execution_count": 41,
      "outputs": [
        {
          "output_type": "execute_result",
          "data": {
            "text/plain": [
              "['nz_cp045149.1_1-454622',\n",
              " 'nz_cp045149.1_454623-909244',\n",
              " 'nz_cp045149.1_1363867-1818488',\n",
              " 'nz_cp045149.1_3636977-4091598',\n",
              " 'nz_cp045149.1_2727733-3182354',\n",
              " 'nz_cp045149.1_2273111-2727732',\n",
              " 'nz_cp045149.1_3182355-3636976',\n",
              " 'nz_cp045149.1_1818489-2273110',\n",
              " 'nz_cp045149.1_4091599-4546217',\n",
              " 'nz_cp045149.1_909245-1363866']"
            ]
          },
          "metadata": {},
          "execution_count": 41
        }
      ]
    },
    {
      "cell_type": "code",
      "source": [
        "k = 4\n",
        "for fragment_file in fragment_files:\n",
        "    !compseq -sequence {fragment_file}.fasta -word {k} -outfile {fragment_file}_{k}-mer.fasta"
      ],
      "metadata": {
        "colab": {
          "base_uri": "https://localhost:8080/"
        },
        "id": "hutVX7MrifFg",
        "outputId": "820363e7-7773-4cca-c271-7007ef981040"
      },
      "execution_count": 42,
      "outputs": [
        {
          "output_type": "stream",
          "name": "stdout",
          "text": [
            "Calculate the composition of unique words in sequences\n",
            "Calculate the composition of unique words in sequences\n",
            "Calculate the composition of unique words in sequences\n",
            "Calculate the composition of unique words in sequences\n",
            "Calculate the composition of unique words in sequences\n",
            "Calculate the composition of unique words in sequences\n",
            "Calculate the composition of unique words in sequences\n",
            "Calculate the composition of unique words in sequences\n",
            "Calculate the composition of unique words in sequences\n",
            "Calculate the composition of unique words in sequences\n"
          ]
        }
      ]
    },
    {
      "cell_type": "code",
      "source": [
        "words = [\"AAAA\", \"ATAT\", \"ATTA\", \"AATT\"]\n",
        "\n",
        "files = list(glob.glob(os.path.join(dir,'*-mer.fasta')))\n",
        "fragmented_files = []\n",
        "\n",
        "for file in files:\n",
        "  fragmented_files.append(os.path.basename(file))\n",
        "\n",
        "fragmented_files"
      ],
      "metadata": {
        "colab": {
          "base_uri": "https://localhost:8080/"
        },
        "id": "tLwpNdH3u8va",
        "outputId": "0efe0084-34ca-49ed-9688-30fa25420195"
      },
      "execution_count": 43,
      "outputs": [
        {
          "output_type": "execute_result",
          "data": {
            "text/plain": [
              "['nz_cp045149.1_3636977-4091598_4-mer.fasta',\n",
              " 'nz_cp045149.1_3182355-3636976_4-mer.fasta',\n",
              " 'nz_cp045149.1_454623-909244_4-mer.fasta',\n",
              " 'nz_cp045149.1_2727733-3182354_4-mer.fasta',\n",
              " 'nz_cp045149.1_1363867-1818488_4-mer.fasta',\n",
              " 'nz_cp045149.1_2273111-2727732_4-mer.fasta',\n",
              " 'nz_cp045149.1_4091599-4546217_4-mer.fasta',\n",
              " 'nz_cp045149.1_1818489-2273110_4-mer.fasta',\n",
              " 'nz_cp045149.1_1-454622_4-mer.fasta',\n",
              " 'nz_cp045149.1_909245-1363866_4-mer.fasta']"
            ]
          },
          "metadata": {},
          "execution_count": 43
        }
      ]
    },
    {
      "cell_type": "code",
      "source": [
        "times1 = [] # we need this but later\n",
        "for fragmented_file in fragmented_files:\n",
        "  for word in words:\n",
        "    for line in open(fragmented_file):\n",
        "      if word in line:\n",
        "        times = line[5:9] # ~\n",
        "        times1.append(times)\n",
        "        print(fragment_file, \"contains\", word, times, \"times\")"
      ],
      "metadata": {
        "colab": {
          "base_uri": "https://localhost:8080/"
        },
        "id": "7xeIx7yPxd7y",
        "outputId": "82e2c4f6-e685-48a4-fa12-4c1c8c4805d9"
      },
      "execution_count": 44,
      "outputs": [
        {
          "output_type": "stream",
          "name": "stdout",
          "text": [
            "nz_cp045149.1_909245-1363866 contains AAAA 3763 times\n",
            "nz_cp045149.1_909245-1363866 contains ATAT 2291 times\n",
            "nz_cp045149.1_909245-1363866 contains ATTA 2268 times\n",
            "nz_cp045149.1_909245-1363866 contains AATT 2337 times\n",
            "nz_cp045149.1_909245-1363866 contains AAAA 3764 times\n",
            "nz_cp045149.1_909245-1363866 contains ATAT 2624 times\n",
            "nz_cp045149.1_909245-1363866 contains ATTA 2616 times\n",
            "nz_cp045149.1_909245-1363866 contains AATT 2392 times\n",
            "nz_cp045149.1_909245-1363866 contains AAAA 3287 times\n",
            "nz_cp045149.1_909245-1363866 contains ATAT 2217 times\n",
            "nz_cp045149.1_909245-1363866 contains ATTA 2282 times\n",
            "nz_cp045149.1_909245-1363866 contains AATT 2346 times\n",
            "nz_cp045149.1_909245-1363866 contains AAAA 3871 times\n",
            "nz_cp045149.1_909245-1363866 contains ATAT 2340 times\n",
            "nz_cp045149.1_909245-1363866 contains ATTA 2490 times\n",
            "nz_cp045149.1_909245-1363866 contains AATT 2543 times\n",
            "nz_cp045149.1_909245-1363866 contains AAAA 3899 times\n",
            "nz_cp045149.1_909245-1363866 contains ATAT 2511 times\n",
            "nz_cp045149.1_909245-1363866 contains ATTA 2648 times\n",
            "nz_cp045149.1_909245-1363866 contains AATT 2528 times\n",
            "nz_cp045149.1_909245-1363866 contains AAAA 4038 times\n",
            "nz_cp045149.1_909245-1363866 contains ATAT 2554 times\n",
            "nz_cp045149.1_909245-1363866 contains ATTA 2602 times\n",
            "nz_cp045149.1_909245-1363866 contains AATT 2453 times\n",
            "nz_cp045149.1_909245-1363866 contains AAAA 3808 times\n",
            "nz_cp045149.1_909245-1363866 contains ATAT 2243 times\n",
            "nz_cp045149.1_909245-1363866 contains ATTA 2460 times\n",
            "nz_cp045149.1_909245-1363866 contains AATT 2349 times\n",
            "nz_cp045149.1_909245-1363866 contains AAAA 3645 times\n",
            "nz_cp045149.1_909245-1363866 contains ATAT 2410 times\n",
            "nz_cp045149.1_909245-1363866 contains ATTA 2600 times\n",
            "nz_cp045149.1_909245-1363866 contains AATT 2530 times\n",
            "nz_cp045149.1_909245-1363866 contains AAAA 3169 times\n",
            "nz_cp045149.1_909245-1363866 contains ATAT 2206 times\n",
            "nz_cp045149.1_909245-1363866 contains ATTA 2328 times\n",
            "nz_cp045149.1_909245-1363866 contains AATT 2348 times\n",
            "nz_cp045149.1_909245-1363866 contains AAAA 3739 times\n",
            "nz_cp045149.1_909245-1363866 contains ATAT 2423 times\n",
            "nz_cp045149.1_909245-1363866 contains ATTA 2604 times\n",
            "nz_cp045149.1_909245-1363866 contains AATT 2491 times\n"
          ]
        }
      ]
    },
    {
      "cell_type": "markdown",
      "source": [
        "Then we need to mix each of these ten fragments by command _shuffleseq_."
      ],
      "metadata": {
        "id": "I4EpTcf84P6t"
      }
    },
    {
      "cell_type": "code",
      "source": [
        "for fragment_file in fragment_files:\n",
        "  !shuffleseq -sequence {fragment_file}.fasta -outseq {fragment_file}_mixed.fasta"
      ],
      "metadata": {
        "colab": {
          "base_uri": "https://localhost:8080/"
        },
        "id": "Gw-GheP9-lBy",
        "outputId": "2defdb99-0838-4df0-91ed-97b64ddb58ba"
      },
      "execution_count": 45,
      "outputs": [
        {
          "output_type": "stream",
          "name": "stdout",
          "text": [
            "Shuffle a set of sequences maintaining composition\n",
            "Shuffle a set of sequences maintaining composition\n",
            "Shuffle a set of sequences maintaining composition\n",
            "Shuffle a set of sequences maintaining composition\n",
            "Shuffle a set of sequences maintaining composition\n",
            "Shuffle a set of sequences maintaining composition\n",
            "Shuffle a set of sequences maintaining composition\n",
            "Shuffle a set of sequences maintaining composition\n",
            "Shuffle a set of sequences maintaining composition\n",
            "Shuffle a set of sequences maintaining composition\n"
          ]
        }
      ]
    },
    {
      "cell_type": "code",
      "source": [
        "files = list(glob.glob(os.path.join(dir,'*_mixed.fasta')))\n",
        "mixed_files = []\n",
        "\n",
        "for file in files:\n",
        "  mixed_files.append(Path(file).stem)\n",
        "\n",
        "mixed_files"
      ],
      "metadata": {
        "colab": {
          "base_uri": "https://localhost:8080/"
        },
        "id": "yLPCDor13-lt",
        "outputId": "31e271cb-3e8d-4c54-fd58-94eefafdc1b5"
      },
      "execution_count": 46,
      "outputs": [
        {
          "output_type": "execute_result",
          "data": {
            "text/plain": [
              "['nz_cp045149.1_3636977-4091598_mixed',\n",
              " 'nz_cp045149.1_4091599-4546217_mixed',\n",
              " 'nz_cp045149.1_3182355-3636976_mixed',\n",
              " 'nz_cp045149.1_2273111-2727732_mixed',\n",
              " 'nz_cp045149.1_454623-909244_mixed',\n",
              " 'nz_cp045149.1_2727733-3182354_mixed',\n",
              " 'nz_cp045149.1_1363867-1818488_mixed',\n",
              " 'nz_cp045149.1_1-454622_mixed',\n",
              " 'nz_cp045149.1_1818489-2273110_mixed',\n",
              " 'nz_cp045149.1_909245-1363866_mixed']"
            ]
          },
          "metadata": {},
          "execution_count": 46
        }
      ]
    },
    {
      "cell_type": "markdown",
      "source": [
        "Let's count again a number of the following words: AAAA, ATAT, ATTA, AATT (but for now in the mixed fragments)."
      ],
      "metadata": {
        "id": "vBzFGSHE7-Sw"
      }
    },
    {
      "cell_type": "code",
      "source": [
        "for mixed_file in mixed_files:\n",
        "    !compseq -sequence {mixed_file}.fasta -word {k} -outfile {mixed_file}_{k}-mer.fasta"
      ],
      "metadata": {
        "colab": {
          "base_uri": "https://localhost:8080/"
        },
        "id": "GNvO3sbWAZjT",
        "outputId": "af8b4227-cb31-4277-c02d-b8c658d2632f"
      },
      "execution_count": 47,
      "outputs": [
        {
          "output_type": "stream",
          "name": "stdout",
          "text": [
            "Calculate the composition of unique words in sequences\n",
            "Calculate the composition of unique words in sequences\n",
            "Calculate the composition of unique words in sequences\n",
            "Calculate the composition of unique words in sequences\n",
            "Calculate the composition of unique words in sequences\n",
            "Calculate the composition of unique words in sequences\n",
            "Calculate the composition of unique words in sequences\n",
            "Calculate the composition of unique words in sequences\n",
            "Calculate the composition of unique words in sequences\n",
            "Calculate the composition of unique words in sequences\n"
          ]
        }
      ]
    },
    {
      "cell_type": "code",
      "source": [
        "files = list(glob.glob(os.path.join(dir,'*_mixed_4-mer.fasta')))\n",
        "mixedd_files = []\n",
        "\n",
        "for file in files:\n",
        "  mixedd_files.append(os.path.basename(file))\n",
        "\n",
        "mixedd_files"
      ],
      "metadata": {
        "colab": {
          "base_uri": "https://localhost:8080/"
        },
        "id": "3hkLRtwhDnzg",
        "outputId": "50a97e1a-ed3b-4936-acd9-e6ed669d7fd5"
      },
      "execution_count": 48,
      "outputs": [
        {
          "output_type": "execute_result",
          "data": {
            "text/plain": [
              "['nz_cp045149.1_1-454622_mixed_4-mer.fasta',\n",
              " 'nz_cp045149.1_909245-1363866_mixed_4-mer.fasta',\n",
              " 'nz_cp045149.1_454623-909244_mixed_4-mer.fasta',\n",
              " 'nz_cp045149.1_1818489-2273110_mixed_4-mer.fasta',\n",
              " 'nz_cp045149.1_1363867-1818488_mixed_4-mer.fasta',\n",
              " 'nz_cp045149.1_4091599-4546217_mixed_4-mer.fasta',\n",
              " 'nz_cp045149.1_2727733-3182354_mixed_4-mer.fasta',\n",
              " 'nz_cp045149.1_3182355-3636976_mixed_4-mer.fasta',\n",
              " 'nz_cp045149.1_2273111-2727732_mixed_4-mer.fasta',\n",
              " 'nz_cp045149.1_3636977-4091598_mixed_4-mer.fasta']"
            ]
          },
          "metadata": {},
          "execution_count": 48
        }
      ]
    },
    {
      "cell_type": "code",
      "source": [
        "times2 = [] # we need this but later, too\n",
        "for mixedd_file in mixedd_files:\n",
        "  for word in words:\n",
        "    for line in open(mixedd_file):\n",
        "      if word in line:\n",
        "        times = line[5:9] # ~\n",
        "        times2.append(times)\n",
        "        print(mixedd_file, \"contains\", word, times, \"times\")"
      ],
      "metadata": {
        "colab": {
          "base_uri": "https://localhost:8080/"
        },
        "id": "whaob7ar8pAR",
        "outputId": "47466a1a-82e1-4cba-ab25-0c209a469562"
      },
      "execution_count": 50,
      "outputs": [
        {
          "output_type": "stream",
          "name": "stdout",
          "text": [
            "nz_cp045149.1_1-454622_mixed_4-mer.fasta contains AAAA 1817 times\n",
            "nz_cp045149.1_1-454622_mixed_4-mer.fasta contains ATAT 2062 times\n",
            "nz_cp045149.1_1-454622_mixed_4-mer.fasta contains ATTA 2052 times\n",
            "nz_cp045149.1_1-454622_mixed_4-mer.fasta contains AATT 2029 times\n",
            "nz_cp045149.1_909245-1363866_mixed_4-mer.fasta contains AAAA 1892 times\n",
            "nz_cp045149.1_909245-1363866_mixed_4-mer.fasta contains ATAT 2180 times\n",
            "nz_cp045149.1_909245-1363866_mixed_4-mer.fasta contains ATTA 2194 times\n",
            "nz_cp045149.1_909245-1363866_mixed_4-mer.fasta contains AATT 2218 times\n",
            "nz_cp045149.1_454623-909244_mixed_4-mer.fasta contains AAAA 1905 times\n",
            "nz_cp045149.1_454623-909244_mixed_4-mer.fasta contains ATAT 1998 times\n",
            "nz_cp045149.1_454623-909244_mixed_4-mer.fasta contains ATTA 2107 times\n",
            "nz_cp045149.1_454623-909244_mixed_4-mer.fasta contains AATT 2056 times\n",
            "nz_cp045149.1_1818489-2273110_mixed_4-mer.fasta contains AAAA 2293 times\n",
            "nz_cp045149.1_1818489-2273110_mixed_4-mer.fasta contains ATAT 2239 times\n",
            "nz_cp045149.1_1818489-2273110_mixed_4-mer.fasta contains ATTA 2302 times\n",
            "nz_cp045149.1_1818489-2273110_mixed_4-mer.fasta contains AATT 2314 times\n",
            "nz_cp045149.1_1363867-1818488_mixed_4-mer.fasta contains AAAA 2135 times\n",
            "nz_cp045149.1_1363867-1818488_mixed_4-mer.fasta contains ATAT 2188 times\n",
            "nz_cp045149.1_1363867-1818488_mixed_4-mer.fasta contains ATTA 2215 times\n",
            "nz_cp045149.1_1363867-1818488_mixed_4-mer.fasta contains AATT 2211 times\n",
            "nz_cp045149.1_4091599-4546217_mixed_4-mer.fasta contains AAAA 2299 times\n",
            "nz_cp045149.1_4091599-4546217_mixed_4-mer.fasta contains ATAT 2129 times\n",
            "nz_cp045149.1_4091599-4546217_mixed_4-mer.fasta contains ATTA 2044 times\n",
            "nz_cp045149.1_4091599-4546217_mixed_4-mer.fasta contains AATT 2031 times\n",
            "nz_cp045149.1_2727733-3182354_mixed_4-mer.fasta contains AAAA 2319 times\n",
            "nz_cp045149.1_2727733-3182354_mixed_4-mer.fasta contains ATAT 2159 times\n",
            "nz_cp045149.1_2727733-3182354_mixed_4-mer.fasta contains ATTA 2125 times\n",
            "nz_cp045149.1_2727733-3182354_mixed_4-mer.fasta contains AATT 2154 times\n",
            "nz_cp045149.1_3182355-3636976_mixed_4-mer.fasta contains AAAA 2068 times\n",
            "nz_cp045149.1_3182355-3636976_mixed_4-mer.fasta contains ATAT 2099 times\n",
            "nz_cp045149.1_3182355-3636976_mixed_4-mer.fasta contains ATTA 2136 times\n",
            "nz_cp045149.1_3182355-3636976_mixed_4-mer.fasta contains AATT 2146 times\n",
            "nz_cp045149.1_2273111-2727732_mixed_4-mer.fasta contains AAAA 2360 times\n",
            "nz_cp045149.1_2273111-2727732_mixed_4-mer.fasta contains ATAT 2254 times\n",
            "nz_cp045149.1_2273111-2727732_mixed_4-mer.fasta contains ATTA 2226 times\n",
            "nz_cp045149.1_2273111-2727732_mixed_4-mer.fasta contains AATT 2244 times\n",
            "nz_cp045149.1_3636977-4091598_mixed_4-mer.fasta contains AAAA 2192 times\n",
            "nz_cp045149.1_3636977-4091598_mixed_4-mer.fasta contains ATAT 2034 times\n",
            "nz_cp045149.1_3636977-4091598_mixed_4-mer.fasta contains ATTA 2028 times\n",
            "nz_cp045149.1_3636977-4091598_mixed_4-mer.fasta contains AATT 2012 times\n"
          ]
        }
      ]
    },
    {
      "cell_type": "markdown",
      "source": [
        "Then, we need to compare these two results related to the kmers counts (comparison should be implemented among them + expectected one according to the Bernoulli model)."
      ],
      "metadata": {
        "id": "bZCAVxkqIv9_"
      }
    },
    {
      "cell_type": "markdown",
      "source": [
        "The Bernoulli's theorem can be formulated as it follows: \"If an unlimited number of tests are performed, and for all of these tests some events have the same probability, then, in the case of a sufficiently large number of these events, it can be claimed with a probability somehow/randomly close to the certainty that the ratio of the number of occurrences of an event to the number of tests will deviate from the probability of an event by less than a given number, no matter how small it can be\"."
      ],
      "metadata": {
        "id": "QDgY9oBuJUuz"
      }
    },
    {
      "cell_type": "markdown",
      "source": [
        "Bernoulli's name is also associated with the classical definition of probability, according to which the probability of a random event is the ratio of the number of the favorable cases to the occurrence of an event (m) to the number of all \"equally possible\" cases (n): p = m/n."
      ],
      "metadata": {
        "id": "10Iyg6h1K9dH"
      }
    },
    {
      "cell_type": "markdown",
      "source": [
        "According to the number of nucleotides that may exist in a genome (A, T, G, C) (we don't speak about RNA right now), we may calculate how many variances of k-mers (k=4) exist."
      ],
      "metadata": {
        "id": "PTlNtpjuLScl"
      }
    },
    {
      "cell_type": "code",
      "source": [
        "# 4 - A, T, G, C\n",
        "n = 4**4\n",
        "n"
      ],
      "metadata": {
        "colab": {
          "base_uri": "https://localhost:8080/"
        },
        "id": "YZcGo-LYLux0",
        "outputId": "644b0962-fb8e-4865-baf2-e438a9ec8077"
      },
      "execution_count": 51,
      "outputs": [
        {
          "output_type": "execute_result",
          "data": {
            "text/plain": [
              "256"
            ]
          },
          "metadata": {},
          "execution_count": 51
        }
      ]
    },
    {
      "cell_type": "code",
      "source": [
        "p = 1/n # probability to have a word (for instance, AAAA) in a genome\n",
        "p"
      ],
      "metadata": {
        "colab": {
          "base_uri": "https://localhost:8080/"
        },
        "id": "3l9AnxJCMDmC",
        "outputId": "1040e612-d063-4384-9258-542f8491fd5c"
      },
      "execution_count": 52,
      "outputs": [
        {
          "output_type": "execute_result",
          "data": {
            "text/plain": [
              "0.00390625"
            ]
          },
          "metadata": {},
          "execution_count": 52
        }
      ]
    },
    {
      "cell_type": "markdown",
      "source": [
        "It is named as the Bernoulli model: P(ATGG) = P(A)xP(T)xP(G)xP(G)."
      ],
      "metadata": {
        "id": "ZGPEKGRNMpTc"
      }
    },
    {
      "cell_type": "markdown",
      "source": [
        "So, the full length of the given genome is 4546217 (as we have recognized before); therefore, the expected number for each 4-letters word to exist in this genome is:"
      ],
      "metadata": {
        "id": "jsFlMpwiNGDu"
      }
    },
    {
      "cell_type": "code",
      "source": [
        "m_expected_average = (genome_length/10)*p # cause we cut it into ten parts\n",
        "m_expected_average"
      ],
      "metadata": {
        "colab": {
          "base_uri": "https://localhost:8080/"
        },
        "id": "e1vfOLOPNkq8",
        "outputId": "a90f494f-2ed2-4286-f07e-ac7b42564a8d"
      },
      "execution_count": 53,
      "outputs": [
        {
          "output_type": "execute_result",
          "data": {
            "text/plain": [
              "1775.866015625"
            ]
          },
          "metadata": {},
          "execution_count": 53
        }
      ]
    },
    {
      "cell_type": "code",
      "source": [
        "times_1 = list(map(int, times1))\n",
        "times_1[:10]"
      ],
      "metadata": {
        "colab": {
          "base_uri": "https://localhost:8080/"
        },
        "id": "ULhuvn59PDgn",
        "outputId": "ac1805bc-e675-44d1-a56a-741aa5e9ded4"
      },
      "execution_count": 54,
      "outputs": [
        {
          "output_type": "execute_result",
          "data": {
            "text/plain": [
              "[3763, 2291, 2268, 2337, 3764, 2624, 2616, 2392, 3287, 2217]"
            ]
          },
          "metadata": {},
          "execution_count": 54
        }
      ]
    },
    {
      "cell_type": "code",
      "source": [
        "mean_1 = sum(times_1)/len(times_1)\n",
        "mean_1 # 2750.425"
      ],
      "metadata": {
        "colab": {
          "base_uri": "https://localhost:8080/"
        },
        "id": "rowkGFv1RImE",
        "outputId": "91377f08-503b-4538-e3fa-760beaa4c30e"
      },
      "execution_count": 55,
      "outputs": [
        {
          "output_type": "execute_result",
          "data": {
            "text/plain": [
              "2750.425"
            ]
          },
          "metadata": {},
          "execution_count": 55
        }
      ]
    },
    {
      "cell_type": "code",
      "source": [
        "times_2 = list(map(int, times2))\n",
        "times_2[:10]"
      ],
      "metadata": {
        "colab": {
          "base_uri": "https://localhost:8080/"
        },
        "id": "v5sMxtpJPVuX",
        "outputId": "ec08dca0-e1dd-47a3-9326-35a8d428363d"
      },
      "execution_count": 56,
      "outputs": [
        {
          "output_type": "execute_result",
          "data": {
            "text/plain": [
              "[1817, 2062, 2052, 2029, 1892, 2180, 2194, 2218, 1905, 1998]"
            ]
          },
          "metadata": {},
          "execution_count": 56
        }
      ]
    },
    {
      "cell_type": "code",
      "source": [
        "mean_2 = sum(times_2)/len(times_2)\n",
        "mean_2 # 2664.75"
      ],
      "metadata": {
        "colab": {
          "base_uri": "https://localhost:8080/"
        },
        "id": "VsKAclRDRWKf",
        "outputId": "e6c4597c-78d5-4084-8d14-af44ff5778c9"
      },
      "execution_count": 57,
      "outputs": [
        {
          "output_type": "execute_result",
          "data": {
            "text/plain": [
              "2136.65"
            ]
          },
          "metadata": {},
          "execution_count": 57
        }
      ]
    },
    {
      "cell_type": "markdown",
      "source": [
        "We may see that the mean 1 and the mean 2 of these two practical results are not similar (2750.425, 2136.65), while the expected number (1775.866) is much less both of them. "
      ],
      "metadata": {
        "id": "C0RXS5zBR8dJ"
      }
    },
    {
      "cell_type": "markdown",
      "source": [
        "###Uniprot"
      ],
      "metadata": {
        "id": "ASWJzoL2TBV_"
      }
    },
    {
      "cell_type": "markdown",
      "source": [
        "We have the protein \"Aconitase\" that should be analysed then."
      ],
      "metadata": {
        "id": "A7HFNPb4TRDV"
      }
    },
    {
      "cell_type": "markdown",
      "source": [
        "The Uniprot website: https://www.uniprot.org"
      ],
      "metadata": {
        "id": "sOCLt127dZ1j"
      }
    },
    {
      "cell_type": "markdown",
      "source": [
        "1. How many results are found in UniprotKB/Swiss-Prot/TrEMBL (using the protein name while searching)? / These three ones are considered as the main databases of UniProt.\n",
        "\n",
        "Manually, by UniprotKB we get 160,879 results, by Swiss-Prot - 1,262, by TrEMBL - 159,617.\n"
      ],
      "metadata": {
        "id": "dy5RCiUyTewG"
      }
    },
    {
      "cell_type": "markdown",
      "source": [
        "2. How many results are found in UniprotKB/Swiss-Prot/TrEMBL .. using advanced search method (the field - \"protein name\")?\n",
        "\n",
        "Manually, by UniprotKB we get 31,272 results, by Swiss-Prot - 84, by TrEMBL - 31,188.\n",
        "\n"
      ],
      "metadata": {
        "id": "G69gtQw5bZM7"
      }
    },
    {
      "cell_type": "markdown",
      "source": [
        "3. How many results are found in UniprotKB/Swiss-Prot/TrEMBL .. using advanced search method (the field - \"protein name\") + if we include the filter in the field \"Taxonomy\" (Homo sapiens).\n",
        "\n",
        "Manually, by UniprotKB we get 12 results, by Swiss-Prot - 2, by TrEMBL - 10.\n"
      ],
      "metadata": {
        "id": "oOI4eP38co8A"
      }
    },
    {
      "cell_type": "markdown",
      "source": [
        "Now let's consider the info about the protein..\n",
        "\n",
        "I have opened the tab w/ the entry name \"ACON_HUMAN\" (https://www.uniprot.org/uniprot/Q99798)"
      ],
      "metadata": {
        "id": "UHtJRpZCd0fo"
      }
    },
    {
      "cell_type": "markdown",
      "source": [
        "4. What's the protein function?\n",
        "\n",
        "\"Catalyzes the isomerization of citrate to isocitrate via cis-aconitate.\""
      ],
      "metadata": {
        "id": "s0D3rgoteVDz"
      }
    },
    {
      "cell_type": "markdown",
      "source": [
        "5. Which family does it belong to?\n",
        "\n",
        "\"Belongs to the aconitase/IPM isomerase family.\""
      ],
      "metadata": {
        "id": "UgSrZbuHgZbS"
      }
    },
    {
      "cell_type": "markdown",
      "source": [
        "6. How many UniRef clusters with identities 1.0, 0.9, 0.5 does the protein belong to (including the isoforms)?\n",
        "\n",
        "For 1.0 - 1, \n",
        "0.9 - 563, \n",
        "0.5 - 592.\n"
      ],
      "metadata": {
        "id": "4v4o4vF1gdR_"
      }
    }
  ]
}